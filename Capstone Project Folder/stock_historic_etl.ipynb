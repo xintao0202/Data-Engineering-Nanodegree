{
 "cells": [
  {
   "cell_type": "markdown",
   "metadata": {},
   "source": [
    "# Retrieve, Process and Save historic data ETL"
   ]
  },
  {
   "cell_type": "markdown",
   "metadata": {},
   "source": [
    "This file contains the ETL of retrieve raw data from S3, process them and save back to S3.\n",
    "Note that this is developed in PySpark enviroment."
   ]
  },
  {
   "cell_type": "markdown",
   "metadata": {},
   "source": [
    "## Session 1 load package and and moudles, Start Spark Session."
   ]
  },
  {
   "cell_type": "code",
   "execution_count": 1,
   "metadata": {},
   "outputs": [
    {
     "data": {
      "application/vnd.jupyter.widget-view+json": {
       "model_id": "a6cf278e82c947268bc6c05ad6fa675e",
       "version_major": 2,
       "version_minor": 0
      },
      "text/plain": [
       "VBox()"
      ]
     },
     "metadata": {},
     "output_type": "display_data"
    },
    {
     "name": "stdout",
     "output_type": "stream",
     "text": [
      "Starting Spark application\n"
     ]
    },
    {
     "data": {
      "text/html": [
       "<table>\n",
       "<tr><th>ID</th><th>YARN Application ID</th><th>Kind</th><th>State</th><th>Spark UI</th><th>Driver log</th><th>Current session?</th></tr><tr><td>6</td><td>application_1590452981392_0007</td><td>pyspark</td><td>idle</td><td><a target=\"_blank\" href=\"http://ip-172-31-1-18.us-west-2.compute.internal:20888/proxy/application_1590452981392_0007/\">Link</a></td><td><a target=\"_blank\" href=\"http://ip-172-31-14-27.us-west-2.compute.internal:8042/node/containerlogs/container_1590452981392_0007_01_000001/livy\">Link</a></td><td>✔</td></tr></table>"
      ],
      "text/plain": [
       "<IPython.core.display.HTML object>"
      ]
     },
     "metadata": {},
     "output_type": "display_data"
    },
    {
     "data": {
      "application/vnd.jupyter.widget-view+json": {
       "model_id": "",
       "version_major": 2,
       "version_minor": 0
      },
      "text/plain": [
       "FloatProgress(value=0.0, bar_style='info', description='Progress:', layout=Layout(height='25px', width='50%'),…"
      ]
     },
     "metadata": {},
     "output_type": "display_data"
    },
    {
     "name": "stdout",
     "output_type": "stream",
     "text": [
      "SparkSession available as 'spark'.\n"
     ]
    },
    {
     "data": {
      "application/vnd.jupyter.widget-view+json": {
       "model_id": "",
       "version_major": 2,
       "version_minor": 0
      },
      "text/plain": [
       "FloatProgress(value=0.0, bar_style='info', description='Progress:', layout=Layout(height='25px', width='50%'),…"
      ]
     },
     "metadata": {},
     "output_type": "display_data"
    }
   ],
   "source": [
    "from pyspark.sql import SparkSession\n",
    "import os\n",
    "import configparser\n",
    "\n"
   ]
  },
  {
   "cell_type": "code",
   "execution_count": null,
   "metadata": {},
   "outputs": [],
   "source": [
    "# config = configparser.ConfigParser()\n",
    "\n",
    "# #Normally this file should be in ~/.aws/credentials\n",
    "# config.read_file(open('aws/credentials.cfg'))\n",
    "\n",
    "# os.environ[\"AWS_ACCESS_KEY_ID\"]= config['AWS']['AWS_ACCESS_KEY_ID']\n",
    "# os.environ[\"AWS_SECRET_ACCESS_KEY\"]= config['AWS']['AWS_SECRET_ACCESS_KEY']"
   ]
  },
  {
   "cell_type": "code",
   "execution_count": 2,
   "metadata": {
    "scrolled": true
   },
   "outputs": [
    {
     "data": {
      "application/vnd.jupyter.widget-view+json": {
       "model_id": "669f9e934b6f4d07aa21314a30853c95",
       "version_major": 2,
       "version_minor": 0
      },
      "text/plain": [
       "VBox()"
      ]
     },
     "metadata": {},
     "output_type": "display_data"
    },
    {
     "data": {
      "application/vnd.jupyter.widget-view+json": {
       "model_id": "",
       "version_major": 2,
       "version_minor": 0
      },
      "text/plain": [
       "FloatProgress(value=0.0, bar_style='info', description='Progress:', layout=Layout(height='25px', width='50%'),…"
      ]
     },
     "metadata": {},
     "output_type": "display_data"
    }
   ],
   "source": [
    " spark = SparkSession.builder\\\n",
    "                     .config(\"spark.jars.packages\",\"org.apache.hadoop:hadoop-aws:2.7.0\")\\\n",
    "                     .getOrCreate()\n"
   ]
  },
  {
   "cell_type": "code",
   "execution_count": 6,
   "metadata": {},
   "outputs": [
    {
     "data": {
      "application/vnd.jupyter.widget-view+json": {
       "model_id": "75d967c631834453b7e5a7c52149466c",
       "version_major": 2,
       "version_minor": 0
      },
      "text/plain": [
       "VBox()"
      ]
     },
     "metadata": {},
     "output_type": "display_data"
    },
    {
     "data": {
      "application/vnd.jupyter.widget-view+json": {
       "model_id": "",
       "version_major": 2,
       "version_minor": 0
      },
      "text/plain": [
       "FloatProgress(value=0.0, bar_style='info', description='Progress:', layout=Layout(height='25px', width='50%'),…"
      ]
     },
     "metadata": {},
     "output_type": "display_data"
    },
    {
     "name": "stdout",
     "output_type": "stream",
     "text": [
      "Collecting boto3\n",
      "  Downloading https://files.pythonhosted.org/packages/75/3b/56bbe7772753d4c77a9b3e31841b4118dc8404b22e643ed79a84887f19a1/boto3-1.13.17-py2.py3-none-any.whl (128kB)\n",
      "Requirement already satisfied: jmespath<1.0.0,>=0.7.1 in /usr/local/lib/python3.7/site-packages (from boto3)\n",
      "Collecting s3transfer<0.4.0,>=0.3.0 (from boto3)\n",
      "  Using cached https://files.pythonhosted.org/packages/69/79/e6afb3d8b0b4e96cefbdc690f741d7dd24547ff1f94240c997a26fa908d3/s3transfer-0.3.3-py2.py3-none-any.whl\n",
      "Collecting botocore<1.17.0,>=1.16.17 (from boto3)\n",
      "  Using cached https://files.pythonhosted.org/packages/e4/be/3324ee30cce696a8798f9a3cb5acdb4090cda7075fec0b5ef2e9f8e220dd/botocore-1.16.17-py2.py3-none-any.whl\n",
      "Collecting python-dateutil<3.0.0,>=2.1 (from botocore<1.17.0,>=1.16.17->boto3)\n",
      "  Using cached https://files.pythonhosted.org/packages/d4/70/d60450c3dd48ef87586924207ae8907090de0b306af2bce5d134d78615cb/python_dateutil-2.8.1-py2.py3-none-any.whl\n",
      "Collecting urllib3<1.26,>=1.20; python_version != \"3.4\" (from botocore<1.17.0,>=1.16.17->boto3)\n",
      "  Using cached https://files.pythonhosted.org/packages/e1/e5/df302e8017440f111c11cc41a6b432838672f5a70aa29227bf58149dc72f/urllib3-1.25.9-py2.py3-none-any.whl\n",
      "Collecting docutils<0.16,>=0.10 (from botocore<1.17.0,>=1.16.17->boto3)\n",
      "  Using cached https://files.pythonhosted.org/packages/22/cd/a6aa959dca619918ccb55023b4cb151949c64d4d5d55b3f4ffd7eee0c6e8/docutils-0.15.2-py3-none-any.whl\n",
      "Requirement already satisfied: six>=1.5 in /usr/local/lib/python3.7/site-packages (from python-dateutil<3.0.0,>=2.1->botocore<1.17.0,>=1.16.17->boto3)\n",
      "Installing collected packages: python-dateutil, urllib3, docutils, botocore, s3transfer, boto3\n",
      "Successfully installed boto3-1.13.17 botocore-1.16.17 docutils-0.15.2 python-dateutil-2.8.1 s3transfer-0.3.3 urllib3-1.25.9"
     ]
    }
   ],
   "source": [
    "sc.install_pypi_package(\"boto3\") \n"
   ]
  },
  {
   "cell_type": "code",
   "execution_count": 7,
   "metadata": {},
   "outputs": [
    {
     "data": {
      "application/vnd.jupyter.widget-view+json": {
       "model_id": "80f7808a6d4b4e82932c3b83c7f08dd4",
       "version_major": 2,
       "version_minor": 0
      },
      "text/plain": [
       "VBox()"
      ]
     },
     "metadata": {},
     "output_type": "display_data"
    },
    {
     "data": {
      "application/vnd.jupyter.widget-view+json": {
       "model_id": "",
       "version_major": 2,
       "version_minor": 0
      },
      "text/plain": [
       "FloatProgress(value=0.0, bar_style='info', description='Progress:', layout=Layout(height='25px', width='50%'),…"
      ]
     },
     "metadata": {},
     "output_type": "display_data"
    },
    {
     "name": "stdout",
     "output_type": "stream",
     "text": [
      "Collecting pandas\n",
      "  Using cached https://files.pythonhosted.org/packages/4a/6a/94b219b8ea0f2d580169e85ed1edc0163743f55aaeca8a44c2e8fc1e344e/pandas-1.0.3-cp37-cp37m-manylinux1_x86_64.whl\n",
      "Requirement already satisfied: pytz>=2017.2 in /usr/local/lib/python3.7/site-packages (from pandas)\n",
      "Requirement already satisfied: python-dateutil>=2.6.1 in /mnt/tmp/1590524640306-0/lib/python3.7/site-packages (from pandas)\n",
      "Requirement already satisfied: numpy>=1.13.3 in /usr/lib64/python3.7/site-packages (from pandas)\n",
      "Requirement already satisfied: six>=1.5 in /usr/local/lib/python3.7/site-packages (from python-dateutil>=2.6.1->pandas)\n",
      "Installing collected packages: pandas\n",
      "Successfully installed pandas-1.0.3"
     ]
    }
   ],
   "source": [
    "sc.install_pypi_package(\"pandas\")"
   ]
  },
  {
   "cell_type": "code",
   "execution_count": 137,
   "metadata": {},
   "outputs": [
    {
     "data": {
      "application/vnd.jupyter.widget-view+json": {
       "model_id": "f12f2e67ca0147978b8c8ad86a058f60",
       "version_major": 2,
       "version_minor": 0
      },
      "text/plain": [
       "VBox()"
      ]
     },
     "metadata": {},
     "output_type": "display_data"
    },
    {
     "data": {
      "application/vnd.jupyter.widget-view+json": {
       "model_id": "",
       "version_major": 2,
       "version_minor": 0
      },
      "text/plain": [
       "FloatProgress(value=0.0, bar_style='info', description='Progress:', layout=Layout(height='25px', width='50%'),…"
      ]
     },
     "metadata": {},
     "output_type": "display_data"
    },
    {
     "name": "stdout",
     "output_type": "stream",
     "text": [
      "Collecting s3fs\n",
      "  Using cached https://files.pythonhosted.org/packages/b8/e4/b8fc59248399d2482b39340ec9be4bb2493846ac23641b43115a7e5cd675/s3fs-0.4.2-py3-none-any.whl\n",
      "Collecting fsspec>=0.6.0 (from s3fs)\n",
      "  Using cached https://files.pythonhosted.org/packages/0f/31/f27a81686b2f1b2f6776bd5db10efc7d88f28a50e8888f55409ef6501a50/fsspec-0.7.4-py3-none-any.whl\n",
      "Requirement already satisfied: botocore>=1.12.91 in /mnt/tmp/1590524640306-0/lib/python3.7/site-packages (from s3fs)\n",
      "Requirement already satisfied: python-dateutil<3.0.0,>=2.1 in /mnt/tmp/1590524640306-0/lib/python3.7/site-packages (from botocore>=1.12.91->s3fs)\n",
      "Requirement already satisfied: urllib3<1.26,>=1.20; python_version != \"3.4\" in /mnt/tmp/1590524640306-0/lib/python3.7/site-packages (from botocore>=1.12.91->s3fs)\n",
      "Requirement already satisfied: docutils<0.16,>=0.10 in /mnt/tmp/1590524640306-0/lib/python3.7/site-packages (from botocore>=1.12.91->s3fs)\n",
      "Requirement already satisfied: jmespath<1.0.0,>=0.7.1 in /usr/local/lib/python3.7/site-packages (from botocore>=1.12.91->s3fs)\n",
      "Requirement already satisfied: six>=1.5 in /usr/local/lib/python3.7/site-packages (from python-dateutil<3.0.0,>=2.1->botocore>=1.12.91->s3fs)\n",
      "Installing collected packages: fsspec, s3fs\n",
      "Successfully installed fsspec-0.7.4 s3fs-0.4.2"
     ]
    }
   ],
   "source": [
    "sc.install_pypi_package(\"s3fs\")"
   ]
  },
  {
   "cell_type": "markdown",
   "metadata": {},
   "source": [
    "# Session 2 Obatain historical data from S3 zip files"
   ]
  },
  {
   "cell_type": "code",
   "execution_count": 10,
   "metadata": {
    "scrolled": true
   },
   "outputs": [
    {
     "data": {
      "application/vnd.jupyter.widget-view+json": {
       "model_id": "413fab05510f4a3aad3f55503ab05bbb",
       "version_major": 2,
       "version_minor": 0
      },
      "text/plain": [
       "VBox()"
      ]
     },
     "metadata": {},
     "output_type": "display_data"
    },
    {
     "data": {
      "application/vnd.jupyter.widget-view+json": {
       "model_id": "",
       "version_major": 2,
       "version_minor": 0
      },
      "text/plain": [
       "FloatProgress(value=0.0, bar_style='info', description='Progress:', layout=Layout(height='25px', width='50%'),…"
      ]
     },
     "metadata": {},
     "output_type": "display_data"
    }
   ],
   "source": [
    "import zipfile\n",
    "import boto3\n",
    "import io\n",
    "import os\n",
    "import pandas as pd\n",
    "\n",
    "def convert_zip_to_dfs(bucket_name, key):\n",
    "    s3_resource = boto3.resource('s3')\n",
    "    zip_obj = s3_resource.Object(bucket_name=bucket_name, key=key)\n",
    "    buffer = io.BytesIO(zip_obj.get()[\"Body\"].read())\n",
    "    z = zipfile.ZipFile(buffer)\n",
    "\n",
    "    # https://stackoverflow.com/questions/44575251/reading-multiple-files-contained-in-a-zip-file-with-pandas\n",
    "    dfs = {os.path.splitext(text_file.filename)[0]: pd.read_csv(z.open(text_file.filename))\n",
    "           for text_file in z.infolist()\n",
    "           if text_file.filename.endswith('.csv')}\n",
    "    return dfs\n"
   ]
  },
  {
   "cell_type": "markdown",
   "metadata": {},
   "source": [
    "Compnayinfo only has one file, only generated one dataframe [4610 rows x 33 columns]"
   ]
  },
  {
   "cell_type": "code",
   "execution_count": 97,
   "metadata": {},
   "outputs": [
    {
     "data": {
      "application/vnd.jupyter.widget-view+json": {
       "model_id": "93facc4e7a8d433dac01d67806d60a3d",
       "version_major": 2,
       "version_minor": 0
      },
      "text/plain": [
       "VBox()"
      ]
     },
     "metadata": {},
     "output_type": "display_data"
    },
    {
     "data": {
      "application/vnd.jupyter.widget-view+json": {
       "model_id": "",
       "version_major": 2,
       "version_minor": 0
      },
      "text/plain": [
       "FloatProgress(value=0.0, bar_style='info', description='Progress:', layout=Layout(height='25px', width='50%'),…"
      ]
     },
     "metadata": {},
     "output_type": "display_data"
    },
    {
     "name": "stdout",
     "output_type": "stream",
     "text": [
      "                   simple_name  ... year_founded\n",
      "0              Aurora Cannabis  ...       2006.0\n",
      "1                         Ford  ...       1903.0\n",
      "2                           GE  ...       1878.0\n",
      "3                    Microsoft  ...       1975.0\n",
      "4                        GoPro  ...       2002.0\n",
      "...                        ...  ...          ...\n",
      "4605              Regal Beloit  ...       1955.0\n",
      "4606              RBC Bearings  ...       1919.0\n",
      "4607                    ATRION  ...       1944.0\n",
      "4608  Wealthbridge Acquisition  ...       2018.0\n",
      "4609             AIRT Warrants  ...       1980.0\n",
      "\n",
      "[4610 rows x 33 columns]"
     ]
    }
   ],
   "source": [
    "df_companyinfo_list= convert_zip_to_dfs(\"stock.etl\", \"raw-historic-data/companyinfo.zip\")\n",
    "df_companyinfo_key=list(df_companyinfo_list.keys())[0]\n",
    "df_company_info=df_companyinfo_list.get(df_companyinfo_key)\n",
    "df_company_info"
   ]
  },
  {
   "cell_type": "markdown",
   "metadata": {},
   "source": [
    "News have three files, generated three dataframes, 'CombinedNewsDJIA.csv' is a combined version of 'RedditNews.csv'.\n",
    "The first column is \"Date\", the second is \"Label\", and the following ones are news headlines ranging from \"Top1\" to \"Top25\".\n",
    "Here I use 'Combined_News_DJIA.csv' as df_news_historic, which has [1989 rows x 27 columns]"
   ]
  },
  {
   "cell_type": "code",
   "execution_count": 11,
   "metadata": {},
   "outputs": [
    {
     "data": {
      "application/vnd.jupyter.widget-view+json": {
       "model_id": "d967ae072304403c808c33089c942857",
       "version_major": 2,
       "version_minor": 0
      },
      "text/plain": [
       "VBox()"
      ]
     },
     "metadata": {},
     "output_type": "display_data"
    },
    {
     "data": {
      "application/vnd.jupyter.widget-view+json": {
       "model_id": "",
       "version_major": 2,
       "version_minor": 0
      },
      "text/plain": [
       "FloatProgress(value=0.0, bar_style='info', description='Progress:', layout=Layout(height='25px', width='50%'),…"
      ]
     },
     "metadata": {},
     "output_type": "display_data"
    }
   ],
   "source": [
    "df_news_list= convert_zip_to_dfs(\"stock.etl\", \"raw-historic-data/stocknews.zip\")\n",
    "df_news_historic=df_news_list.get('Combined_News_DJIA')"
   ]
  },
  {
   "cell_type": "code",
   "execution_count": 12,
   "metadata": {},
   "outputs": [
    {
     "data": {
      "application/vnd.jupyter.widget-view+json": {
       "model_id": "dd651f1443e5450ea9d6b40e5c447f6b",
       "version_major": 2,
       "version_minor": 0
      },
      "text/plain": [
       "VBox()"
      ]
     },
     "metadata": {},
     "output_type": "display_data"
    },
    {
     "data": {
      "application/vnd.jupyter.widget-view+json": {
       "model_id": "",
       "version_major": 2,
       "version_minor": 0
      },
      "text/plain": [
       "FloatProgress(value=0.0, bar_style='info', description='Progress:', layout=Layout(height='25px', width='50%'),…"
      ]
     },
     "metadata": {},
     "output_type": "display_data"
    },
    {
     "name": "stdout",
     "output_type": "stream",
     "text": [
      "            Date  ...                                              Top25\n",
      "0     2008-08-08  ...           b\"No Help for Mexico's Kidnapping Surge\"\n",
      "1     2008-08-11  ...  b\"So this is what it's come to: trading sex fo...\n",
      "2     2008-08-12  ...  b\"BBC NEWS | Asia-Pacific | Extinction 'by man...\n",
      "3     2008-08-13  ...  b'2006: Nobel laureate Aleksander Solzhenitsyn...\n",
      "4     2008-08-14  ...  b'Philippines : Peace Advocate say Muslims nee...\n",
      "...          ...  ...                                                ...\n",
      "1984  2016-06-27  ...  Pakistani clerics declare transgender marriage...\n",
      "1985  2016-06-28  ...  Mexico's security forces routinely use 'sexual...\n",
      "1986  2016-06-29  ...  Tiny New Zealand town with 'too many jobs' lau...\n",
      "1987  2016-06-30  ...  Law Enforcement Sources: Gun Used in Paris Ter...\n",
      "1988  2016-07-01  ...  Ozone layer hole seems to be healing - US &amp...\n",
      "\n",
      "[1989 rows x 27 columns]"
     ]
    }
   ],
   "source": [
    "df_news_historic"
   ]
  },
  {
   "cell_type": "markdown",
   "metadata": {},
   "source": [
    "stock price contains subfolders : \"Data/ETFs/\" and \"Data/Stocks/\". Files are in 'txt' format. Here I only consider stocks. There are a total of 7163 stocks. Each stock has a file, contains [8364 rows x 7 columns]. So the total number of rows for all stock files are about 6 million lines of data"
   ]
  },
  {
   "cell_type": "code",
   "execution_count": 13,
   "metadata": {},
   "outputs": [
    {
     "data": {
      "application/vnd.jupyter.widget-view+json": {
       "model_id": "978e5211dd01442d9cc1f34199c6ce19",
       "version_major": 2,
       "version_minor": 0
      },
      "text/plain": [
       "VBox()"
      ]
     },
     "metadata": {},
     "output_type": "display_data"
    },
    {
     "data": {
      "application/vnd.jupyter.widget-view+json": {
       "model_id": "",
       "version_major": 2,
       "version_minor": 0
      },
      "text/plain": [
       "FloatProgress(value=0.0, bar_style='info', description='Progress:', layout=Layout(height='25px', width='50%'),…"
      ]
     },
     "metadata": {},
     "output_type": "display_data"
    }
   ],
   "source": [
    "def convert_stock_from_zip(bucket_name, key):\n",
    "    s3_resource = boto3.resource('s3')\n",
    "    zip_obj = s3_resource.Object(bucket_name=bucket_name, key=key)\n",
    "    buffer = io.BytesIO(zip_obj.get()[\"Body\"].read())\n",
    "    z = zipfile.ZipFile(buffer)\n",
    "    stock_dict_historic={}\n",
    "\n",
    "    for file_info in z.infolist():\n",
    "        if \"Stocks\" in file_info.filename and \"txt\" in file_info.filename:\n",
    "            stock_name=file_info.filename.split(\"/\")[1]\n",
    "            stock_name=stock_name.split(\".\")[0]\n",
    "            # some files has no data, need to exclude\n",
    "            if stock_name !=\"Stocks\" and file_info.file_size >0:\n",
    "                df=pd.read_csv(z.open(file_info.filename), sep=',')\n",
    "                stock_dict_historic.update({stock_name: df})\n",
    "    return stock_dict_historic"
   ]
  },
  {
   "cell_type": "code",
   "execution_count": 14,
   "metadata": {},
   "outputs": [
    {
     "data": {
      "application/vnd.jupyter.widget-view+json": {
       "model_id": "fd80559dc155441b80e49e4955ca51dc",
       "version_major": 2,
       "version_minor": 0
      },
      "text/plain": [
       "VBox()"
      ]
     },
     "metadata": {},
     "output_type": "display_data"
    },
    {
     "data": {
      "application/vnd.jupyter.widget-view+json": {
       "model_id": "",
       "version_major": 2,
       "version_minor": 0
      },
      "text/plain": [
       "FloatProgress(value=0.0, bar_style='info', description='Progress:', layout=Layout(height='25px', width='50%'),…"
      ]
     },
     "metadata": {},
     "output_type": "display_data"
    },
    {
     "name": "stdout",
     "output_type": "stream",
     "text": [
      "dict_keys(['a', 'aa', 'aaap', 'aaba', 'aac', 'aal', 'aamc', 'aame', 'aan', 'aaoi', 'aaon', 'aap', 'aapl', 'aat', 'aau', 'aav', 'aaww', 'aaxn', 'ab', 'abac', 'abax', 'abb', 'abbv', 'abc', 'abcb', 'abcd', 'abco', 'abdc', 'abe', 'abeo', 'abeow', 'abev', 'abg', 'abil', 'abio', 'ablx', 'abm', 'abmd', 'abr', 'abr_a', 'abr_b', 'abr_c', 'abrn', 'abt', 'abtx', 'abus', 'abx', 'aby', 'ac', 'acad', 'acbi', 'acc', 'acco', 'acer', 'acerw', 'acet', 'acfc', 'acgl', 'acglo', 'acglp', 'ach', 'achc', 'achn', 'achv', 'acia', 'aciu', 'aciw', 'acls', 'acm', 'acmr', 'acn', 'acnb', 'acor', 'acp', 'acre', 'acrs', 'acrx', 'acsf', 'acsi', 'acst', 'acta', 'actg', 'acu', 'acv', 'acxm', 'acy', 'adap', 'adbe', 'adc', 'ades', 'adhd', 'adi', 'adm', 'adma', 'admp', 'adms', 'adnt', 'adom', 'adp', 'adro', 'ads', 'adsk', 'adsw', 'adtn', 'adus', 'advm', 'adx', 'adxs', 'adxsw', 'ae', 'aeb', 'aed', 'aee', 'aeg', 'aegn', 'aeh', 'aehr', 'aeis', 'aek', 'ael', 'aem', 'aemd', 'aeo', 'aep', 'aer', 'aeri', 'aes', 'aet', 'aeti', 'aeua', 'aey', 'aezs', 'afam', 'afb', 'afc', 'afg', 'afge', 'afgh', 'afh', 'afhbl', 'afi', 'afl', 'afmd', 'afsd', 'afsi', 'afsi_a', 'afsi_b', 'afsi_c', 'afsi_d', 'afsi_e', 'afsi_f', 'afss', 'afst', 'aft', 'afty', 'ag', 'agc', 'agco', 'agd', 'agen', 'agfs', 'agfsw', 'agge', 'aggp', 'aggy', 'agi', 'agii', 'agiil', 'agio', 'agle', 'agm-a', 'agm', 'agm_a', 'agm_b', 'agm_c', 'agn', 'agn_a', 'agnc', 'agncb', 'agncn', 'ago', 'ago_b', 'ago_e', 'ago_f', 'agr', 'agro', 'agrx', 'agt', 'agtc', 'agu', 'agx', 'agys', 'ahc', 'ahgp', 'ahh', 'ahl', 'ahl_c', 'ahl_d', 'ahp', 'ahp_b', 'ahpa', 'ahpau', 'ahpaw', 'ahpi', 'aht', 'aht_d', 'aht_f', 'aht_g', 'aht_h', 'ai', 'ai_b', 'aib-cl', 'aic', 'aieq', 'aif', 'aig-ws', 'aig', 'aimc', 'aimt', 'ain', 'ainc', 'ainv', 'air', 'airg', 'airi', 'airt', 'ait', 'aiv', 'aiv_a', 'aiw', 'aiy', 'aiz', 'ajg', 'ajrd', 'ajx', 'ajxa', 'akam', 'akao', 'akba', 'akca', 'aker', 'akg', 'ako-a', 'ako-b', 'akp', 'akr', 'akrx', 'aks', 'akts', 'aktx', 'al', 'alb', 'albo', 'alco', 'aldr', 'aldw', 'aldx', 'ale', 'alex', 'alfi', 'alg', 'algn', 'algt', 'alim', 'aljj', 'alk', 'alks', 'all', 'all_a', 'all_b', 'all_c', 'all_d', 'all_e', 'all_f', 'alle', 'allt', 'ally', 'ally_a', 'aln', 'alna', 'alny', 'alo', 'alog', 'alot', 'alp_o-cl', 'alp_q', 'alpn', 'alqa', 'alrm', 'alrn', 'alsk', 'alsn', 'alt', 'altr', 'alty', 'alv', 'alx', 'alxn', 'am', 'amag', 'amat', 'amba', 'ambc', 'ambcw', 'ambr', 'amc', 'amca', 'amcn', 'amcx', 'amd', 'amda', 'ame', 'amed', 'amfw', 'amg', 'amgn', 'amgp', 'amh', 'amh_c', 'amh_d', 'amh_e', 'amh_f', 'amh_g', 'amid', 'amkr', 'amlx', 'amma', 'amn', 'amnb', 'amot', 'amov', 'amp', 'ampe', 'amph', 'amrb', 'amrc', 'amrk', 'amrn', 'amrs', 'ams', 'amsc', 'amsf', 'amswa', 'amt', 'amt_b', 'amtd', 'amtx', 'amwd', 'amx', 'amza', 'amzn', 'an', 'anab', 'anat', 'ancb', 'ancx', 'anda', 'andar', 'andau', 'andaw', 'ande', 'andv', 'andx', 'anet', 'anf', 'anfi', 'angi', 'ango', 'anh', 'anh_a', 'anh_b', 'anh_c', 'anik', 'anip', 'anss', 'anth', 'antm', 'antx', 'anw', 'any', 'aobc', 'aod', 'aoi', 'aon', 'aos', 'aosl', 'aoxg', 'ap', 'apa', 'apam', 'apb', 'apc', 'apd', 'apdn', 'apdnw', 'apei', 'apen', 'apf', 'aph', 'aphb', 'aple', 'aplp', 'apls', 'apo', 'apo_a', 'apog', 'apop', 'apopw', 'appf', 'appn', 'apps', 'apri', 'aprn', 'apt', 'apti', 'apto', 'apts', 'apu', 'apvo', 'apwc', 'aq', 'aqb', 'aqms', 'aqn', 'aqua', 'aqxp', 'ar', 'ara', 'aray', 'arc', 'arcb', 'arcc', 'arch', 'arci', 'arcm', 'arco', 'arcw', 'arcx', 'ard', 'ardc', 'ardm', 'ardx', 'are', 'are_d', 'ares', 'ares_a', 'arex', 'args', 'argx', 'arh_c', 'ari', 'ari_c', 'arii', 'arkg', 'arkk', 'arkq', 'arkr', 'arkw', 'arl', 'arlp', 'arlz', 'armk', 'arna', 'arnc', 'arnc_', 'arnc_b', 'aroc', 'arow', 'arql', 'arr', 'arr_a', 'arr_b', 'arrs', 'arry', 'artna', 'artw', 'artx', 'arw', 'arwr', 'asa', 'asb-ws', 'asb', 'asb_c', 'asb_d', 'asc', 'ascma', 'aset', 'asfi', 'asg', 'asgn', 'ash', 'ashx', 'asix', 'asm', 'asmb', 'asml', 'asna', 'asnd', 'aspn', 'asps', 'aspu', 'asr', 'asrv', 'asrvp', 'ast', 'astc', 'aste', 'asur', 'asv', 'asx', 'asys', 'at', 'atac', 'atacr', 'atacu', 'atai', 'atax', 'atec', 'aten', 'atge', 'ath', 'athm', 'athn', 'athx', 'ati', 'atkr', 'atlc', 'atlo', 'atni', 'atnm', 'atnx', 'ato', 'atom', 'atos', 'atr', 'atra', 'atrc', 'atri', 'atro', 'atrs', 'atsg', 'atto', 'attu', 'atu', 'atus', 'atv', 'atvi', 'atxi', 'au', 'aubn', 'audc', 'aug', 'aumn', 'auo', 'auph', 'auto', 'auy', 'ava', 'aval', 'avav', 'avb', 'avd', 'avdl', 'aveo', 'avgo', 'avgr', 'avh', 'avhi', 'avid', 'avir', 'avk', 'avnw', 'avp', 'avt', 'avx', 'avxl', 'avxs', 'avy', 'awf', 'awi', 'awk', 'awp', 'awr', 'awre', 'awx', 'axas', 'axdx', 'axe', 'axgn', 'axl', 'axon', 'axp', 'axr', 'axs', 'axs_d', 'axs_e', 'axsm', 'axta', 'axti', 'axu', 'ayi', 'ayr', 'aytu', 'ayx', 'azn', 'azo', 'azpn', 'azre', 'azrx', 'azul', 'azz', 'b', 'ba', 'baa', 'baba', 'baby', 'bac-ws-a', 'bac-ws-b', 'bac', 'bac_a', 'bac_c', 'bac_d', 'bac_e', 'bac_i', 'bac_l', 'bac_w', 'bac_y', 'baf', 'bah', 'bak', 'bam', 'banc', 'banc_c', 'banc_d', 'banc_e', 'band', 'banf', 'banfp', 'banr', 'banx', 'bap', 'bar', 'bas', 'basi', 'batra', 'batrk', 'bax', 'bb', 'bbby', 'bbc', 'bbd', 'bbdo', 'bbf', 'bbg', 'bbgi', 'bbk', 'bbl', 'bbn', 'bbox', 'bbrg', 'bbsi', 'bbt', 'bbt_d', 'bbt_e', 'bbt_f', 'bbt_g', 'bbt_h', 'bbu', 'bbva', 'bbw', 'bbx', 'bby', 'bc', 'bcac', 'bcacr', 'bcacu', 'bcacw', 'bcbp', 'bcc', 'bcd', 'bce', 'bcei', 'bch', 'bci', 'bcli', 'bco', 'bcom', 'bcor', 'bcov', 'bcpc', 'bcr', 'bcrh', 'bcrx', 'bcs', 'bcs_d', 'bctf', 'bcv', 'bcv_a', 'bcx', 'bdc', 'bdc_b', 'bdcz', 'bdge', 'bdj', 'bdl', 'bdn', 'bdr', 'bdsi', 'bdx', 'bdxa', 'beat', 'bebe', 'becn', 'bedu', 'bef', 'bel', 'belfa', 'belfb', 'bemo', 'ben', 'bep', 'bern', 'bery', 'betr', 'bf-a', 'bf-b', 'bfam', 'bfin', 'bfit', 'bfk', 'bfo', 'bfr', 'bfs', 'bfs_c', 'bfy', 'bfz', 'bg', 'bgb', 'bgc', 'bgca', 'bgcp', 'bgfv', 'bgg', 'bgh', 'bgi', 'bgio', 'bgne', 'bgr', 'bgs', 'bgsf', 'bgt', 'bgx', 'bgy', 'bh', 'bhac', 'bhacr', 'bhacu', 'bhacw', 'bhb', 'bhbk', 'bhe', 'bhf', 'bhge', 'bhk', 'bhlb', 'bhp', 'bhv', 'bhvn', 'bibl', 'bid', 'bidu', 'bif', 'big', 'biib', 'bio-b', 'bio', 'bioa', 'bioc', 'biol', 'bios', 'bip', 'bit', 'bita', 'bivv', 'bjri', 'bjz', 'bk', 'bk_c', 'bkcc', 'bkd', 'bke', 'bkep', 'bkepp', 'bkh', 'bkhu', 'bki', 'bkj', 'bkk', 'bkmu', 'bkn', 'bks', 'bksc', 'bkt', 'bku', 'bkyi', 'bl', 'blbd', 'blcm', 'bld', 'bldp', 'bldr', 'ble', 'bles', 'blfs', 'blh', 'blhy', 'blin', 'blj', 'blk', 'blkb', 'bll', 'blmn', 'blmt', 'blph', 'blrx', 'blue', 'blvd', 'blvdu', 'blvdw', 'blw', 'blx', 'bma', 'bmch', 'bme', 'bmi', 'bml_g', 'bml_h', 'bml_i', 'bml_j', 'bml_l', 'bmla', 'bmlp', 'bmo', 'bmra', 'bmrc', 'bmrn', 'bms', 'bmtc', 'bmy', 'bncl', 'bndc', 'bned', 'bnft', 'bnj', 'bns', 'bnso', 'bntc', 'bntcw', 'bny', 'bobe', 'boch', 'boe', 'bofi', 'bofil', 'boh', 'boja', 'bokf', 'bokfl', 'bold', 'bomn', 'bont', 'boom', 'boot', 'born', 'bosc', 'boss', 'botj', 'botz', 'box', 'bp', 'bpfh', 'bpfhp', 'bpfhw', 'bpi', 'bpk', 'bpl', 'bpmc', 'bpmp', 'bpmx', 'bpop', 'bpopm', 'bpopn', 'bprn', 'bpt', 'bpth', 'bpy', 'bqh', 'br', 'brac', 'bracr', 'bracu', 'bracw', 'brc', 'brcd', 'brew', 'brfs', 'brg', 'brg_a', 'brg_c', 'brg_d', 'brgl', 'brid', 'brk-a', 'brk-b', 'brkl', 'brkr', 'brks', 'brn', 'bro', 'brqs', 'brqsw', 'brs', 'brss', 'brt', 'brx', 'bsac', 'bsbr', 'bscp', 'bscq', 'bscr', 'bsd', 'bse', 'bset', 'bsf', 'bsft', 'bsjn', 'bsjo', 'bsjp', 'bsl', 'bsm', 'bsmx', 'bspm', 'bsqr', 'bsrr', 'bst', 'bstc', 'bsti', 'bswn', 'bsx', 'bt', 'bta', 'bte', 'btec', 'btg', 'bti', 'btn', 'bto', 'btt', 'btu', 'btu_', 'btx-ws', 'btx', 'btz', 'bud', 'buff', 'bui', 'bur', 'burl', 'buse', 'buz', 'bv', 'bval', 'bvn', 'bvsn', 'bvx', 'bvxv', 'bvxvw', 'bw', 'bwa', 'bwen', 'bwfg', 'bwg', 'bwina', 'bwinb', 'bwl-a', 'bwld', 'bwp', 'bwxt', 'bx', 'bxc', 'bxe', 'bxmt', 'bxmx', 'bxp', 'bxp_b', 'bxs', 'by', 'bybk', 'byd', 'byfc', 'bym', 'bysi', 'bzh', 'bzm', 'bzun', 'c-ws-a', 'c', 'c_c', 'c_j', 'c_k', 'c_l', 'c_n', 'c_p', 'c_s', 'ca', 'caa', 'caas', 'cabo', 'cac', 'cacc', 'cacg', 'caci', 'cadc', 'cade', 'cae', 'caf', 'cafd', 'cag', 'cah', 'cai', 'caj', 'cake', 'cal', 'cala', 'cald', 'calf', 'cali', 'call', 'calm', 'calx', 'camp', 'camt', 'canf', 'capl', 'capr', 'car', 'cara', 'carb', 'carg', 'caro', 'cars', 'cart', 'carv', 'casc', 'cash', 'casi', 'casm', 'cass', 'casy', 'cat', 'catb', 'catc', 'cath', 'catm', 'cato', 'cats', 'caty', 'catyw', 'cavm', 'caw', 'cb', 'cba', 'cbak', 'cban', 'cbay', 'cbb', 'cbb_b', 'cbd', 'cbf', 'cbfv', 'cbg', 'cbh', 'cbi', 'cbio', 'cbk', 'cbl', 'cbl_d', 'cbl_e', 'cbli', 'cbm', 'cbmg', 'cbmx', 'cbmxw', 'cbo', 'cboe', 'cbpo', 'cbpx', 'cbrl', 'cbs-a', 'cbs', 'cbsh', 'cbshp', 'cbt', 'cbtx', 'cbu', 'cbx', 'cbz', 'cc', 'cca', 'ccbg', 'ccc', 'cccl', 'cccr', 'ccd', 'cce', 'ccf', 'cci', 'cci_a', 'ccih', 'ccj', 'cck', 'ccl', 'cclp', 'ccm', 'ccmp', 'ccne', 'cco', 'ccoi', 'ccor', 'ccrc', 'ccrn', 'ccs', 'ccu', 'ccur', 'ccv-cl', 'ccv', 'ccxi', 'ccz', 'cdc', 'cde', 'cdev', 'cdk', 'cdl', 'cdna', 'cdns', 'cdor', 'cdr', 'cdr_b', 'cdr_c', 'cdti', 'cdtx', 'cdw', 'cdxc', 'cdxs', 'cdzi', 'ce', 'cea', 'cece', 'ceco', 'cee', 'cef', 'cefs', 'cei', 'cel', 'celc', 'celg', 'celgz', 'celh', 'celp', 'cem', 'cemb', 'cemi', 'cen', 'cent', 'centa', 'cenx', 'ceo', 'ceqp', 'cerc', 'cercw', 'cern', 'cers', 'cet', 'cetv', 'cetx', 'cetxp', 'cetxw', 'cev', 'ceva', 'cey', 'cez', 'cf', 'cfa', 'cfbi', 'cfbk', 'cfc_b', 'cfco', 'cfcou', 'cfcow', 'cffi', 'cffn', 'cfg', 'cfms', 'cfnb', 'cfo', 'cfr', 'cfr_a', 'cfrx', 'cfx', 'cg', 'cga', 'cgbd', 'cgen', 'cgg', 'cgi', 'cgix', 'cgnt', 'cgnx', 'cgo', 'ch', 'cha', 'chad', 'chci', 'chco', 'chct', 'chd', 'chdn', 'che', 'chef', 'chek', 'chekw', 'chfc', 'chfn', 'chfs', 'chgg', 'chgx', 'chh', 'chi', 'chk', 'chk_d', 'chke', 'chkp', 'chkr', 'chl', 'chma', 'chmg', 'chmi', 'chmi_a', 'chn', 'chnr', 'chrs', 'chrw', 'chs', 'chscl', 'chscm', 'chscn', 'chsco', 'chscp', 'chsp', 'cht', 'chtr', 'chu', 'chuba', 'chubk', 'chuy', 'chw', 'chy', 'ci', 'cia', 'cib', 'cibr', 'cic-u', 'cic-ws', 'cic', 'cid', 'cidm', 'cie', 'cien', 'cif', 'cifs', 'cig-c', 'cig', 'cigi', 'cii', 'cik', 'cil', 'cim', 'cim_a', 'cim_b', 'cinf', 'cinr', 'cio', 'cio_a', 'cir', 'cisn-ws', 'cisn', 'cit', 'civb', 'civbp', 'civi', 'cix', 'ciz', 'cizn', 'cj', 'cjjd', 'ckh', 'ckpt', 'ckx', 'cl', 'clar', 'clb', 'clbs', 'clct', 'cld', 'cldc', 'cldr', 'cldt', 'cldx', 'clf', 'clfd', 'clgx', 'clh', 'cli', 'clir', 'clirw', 'clls', 'clm', 'clmt', 'clne', 'clns', 'clns_b', 'clns_c-cl', 'clns_d', 'clns_e', 'clns_g', 'clns_h', 'clns_i', 'clns_j', 'clnt', 'clpr', 'clr', 'clrb', 'clrbw', 'clrbz', 'clro', 'cls', 'clsd', 'clsn', 'cltl', 'club', 'clvs', 'clw', 'clwt', 'clx', 'clxt', 'clyh', 'cm', 'cma-ws', 'cma', 'cmc', 'cmcl', 'cmcm', 'cmco', 'cmcsa', 'cmct', 'cmd', 'cme', 'cmfn', 'cmg', 'cmi', 'cmls', 'cmo', 'cmo_e', 'cmp', 'cmpr', 'cmre', 'cmre_b', 'cmre_c', 'cmre_d', 'cmrx', 'cms', 'cms_b', 'cmss', 'cmssr', 'cmssu', 'cmssw', 'cmt', 'cmta', 'cmtl', 'cmu', 'cna', 'cnac', 'cnacr', 'cnacu', 'cnacw', 'cnat', 'cnbka', 'cnc', 'cnce', 'cncr', 'cndf', 'cndt', 'cnet', 'cnfr', 'cnhi', 'cnhx', 'cni', 'cnit', 'cnk', 'cnmd', 'cnnx', 'cno', 'cnob', 'cnp', 'cnq', 'cns', 'cnsf', 'cnsl', 'cntf', 'cnty', 'cnx', 'cnxc', 'cnxn', 'cnxr', 'cnya', 'co', 'cobz', 'coda', 'codi', 'codi_a', 'codx', 'coe', 'cof-ws', 'cof', 'cof_c', 'cof_d', 'cof_f', 'cof_g', 'cof_h', 'cof_p', 'cog', 'cogt', 'cohn', 'cohr', 'cohu', 'coke', 'col', 'colb', 'coll', 'colm', 'com', 'comb', 'comg', 'comm', 'cone', 'conn', 'coo', 'cool', 'cop', 'cor', 'cor_a-cl', 'cor_a', 'core', 'cori', 'corr', 'corr_a', 'cort', 'cost', 'cot', 'cotv', 'coty', 'coup', 'cown', 'cownl', 'cowz', 'cp', 'cpa', 'cpac', 'cpah', 'cpb', 'cpe', 'cpe_a', 'cpf', 'cpg', 'cphc', 'cphi', 'cpix', 'cpk', 'cpl', 'cpla', 'cplp', 'cpn', 'cprt', 'cprx', 'cps', 'cpsh', 'cpsi', 'cpss', 'cpst', 'cpt', 'cpta', 'cptag', 'cptal', 'cqh', 'cqp', 'cr', 'crai', 'crak', 'cray', 'crbp', 'crc', 'crcm', 'crd-a', 'crd-b', 'cree', 'creg', 'cresy', 'crf', 'crh', 'crhm', 'cri', 'cris', 'crk', 'crl', 'crm', 'crmd', 'crme', 'crmt', 'crnt', 'crox', 'crr', 'crs', 'crsp', 'crt', 'crtn', 'crto', 'crus', 'crvl', 'crvp', 'crvs', 'crws', 'cry', 'crzo', 'cs', 'csa', 'csb', 'csbk', 'csbr', 'csco', 'csf', 'csfl', 'csgp', 'csgs', 'csii', 'csiq', 'csl', 'cslt', 'csml', 'csod', 'cspi', 'csq', 'csra', 'css', 'csse', 'cste', 'cstm', 'cstr', 'csu', 'csv', 'cswc', 'cswi', 'csx', 'ctaa', 'ctas', 'ctb', 'ctbb', 'ctbi', 'ctdd', 'ctek', 'ctg', 'cthr', 'ctib', 'ctic', 'ctl', 'ctlt', 'ctmx', 'cto', 'ctr', 'ctre', 'ctrl', 'ctrn', 'ctrp', 'ctrv', 'cts', 'ctsh', 'ctso', 'ctt', 'ctu', 'ctv', 'ctw', 'ctws', 'ctx', 'ctxr', 'ctxrw', 'ctxs', 'cty', 'ctz', 'cub', 'cuba', 'cube', 'cubi', 'cubi_c', 'cubi_d', 'cubi_e', 'cubi_f', 'cubn', 'cubs', 'cuda', 'cui', 'cuk', 'culp', 'cumb', 'cunb', 'cuo', 'cur', 'cutr', 'cuz', 'cva', 'cvbf', 'cvco', 'cvcy', 'cve', 'cveo', 'cvg', 'cvgi', 'cvgw', 'cvi', 'cvlt', 'cvly', 'cvm-ws', 'cvm', 'cvna', 'cvo', 'cvr', 'cvrr', 'cvrs', 'cvs', 'cvti', 'cvu', 'cvv', 'cvx', 'cw', 'cwai', 'cway', 'cwbc', 'cwco', 'cweb', 'cwh', 'cws', 'cwst', 'cwt', 'cx', 'cxdc', 'cxe', 'cxh', 'cxo', 'cxp', 'cxrx', 'cxse', 'cxw', 'cy', 'cyad', 'cyan', 'cybe', 'cybr', 'cycc', 'cyccp', 'cyd', 'cyh', 'cyhhz', 'cyou', 'cyrn', 'cyrx', 'cyrxw', 'cys', 'cys_a', 'cys_b', 'cytk', 'cytr', 'cytx', 'cytxw', 'czfc', 'cznc', 'czr', 'czwi', 'czz', 'd', 'dac', 'daio', 'dakt', 'dal', 'dalt', 'dan', 'dar', 'dare', 'data', 'dave', 'dax', 'db', 'dbd', 'dbes', 'dbit', 'dbl', 'dbrt', 'dbvt', 'dcf', 'dci', 'dcix', 'dcm', 'dco', 'dcom', 'dcp', 'dcph', 'dct', 'dcud', 'dd', 'dd_a', 'dd_b', 'ddbi', 'ddc', 'ddd', 'dde', 'ddez', 'ddf', 'ddjp', 'ddls', 'ddr', 'ddr_a', 'ddr_j', 'ddr_k', 'dds', 'ddt', 'ddwm', 'de', 'dea', 'deck', 'deef', 'defa', 'dei', 'del', 'delt', 'deltw', 'demg', 'dems', 'denn', 'deo', 'depo', 'derm', 'desc', 'desp', 'dest', 'deus', 'dewj', 'dex', 'dezu', 'df', 'dfbg', 'dfen', 'dffn', 'dfin', 'dfnd', 'dfnl', 'dfp', 'dfrg', 'dfs', 'dfs_b-cl', 'dfs_b', 'dfvl', 'dfvs', 'dg', 'dgica', 'dgicb', 'dgii', 'dglt', 'dgly', 'dgse', 'dgx', 'dhdg', 'dhf', 'dhg', 'dhi', 'dhil', 'dhr', 'dht', 'dhvw', 'dhx', 'dhxm', 'dhy', 'dial', 'diax', 'din', 'diod', 'dis', 'disca', 'discb', 'disck', 'dish', 'dit', 'diva', 'divb', 'divo', 'divy', 'djco', 'djd', 'dk', 'dkl', 'dks', 'dkt', 'dl', 'dla', 'dlb', 'dlbl', 'dlbr', 'dlbs', 'dlhc', 'dlng', 'dlng_a', 'dlph', 'dlr', 'dlr_c', 'dlr_g', 'dlr_h', 'dlr_i', 'dlr_j', 'dlth', 'dltr', 'dlx', 'dm', 'dmb', 'dmf', 'dmlp', 'dmo', 'dmpi', 'dmrc', 'dmri', 'dmrl', 'dmtx', 'dnb', 'dnbf', 'dni', 'dnkn', 'dnn', 'dnow', 'dnp', 'dnr', 'do', 'doc', 'door', 'dorm', 'dota', 'dotar', 'dotau', 'dotaw', 'dov', 'dova', 'dox', 'dpg', 'dplo', 'dps', 'dpst', 'dpw', 'dpz', 'dq', 'drad', 'drd', 'dre', 'drh', 'dri', 'drio', 'driow', 'drna', 'drq', 'drrx', 'drua', 'drys', 'ds', 'ds_b', 'ds_c', 'ds_d', 'dse', 'dsgx', 'dske', 'dskew', 'dsl', 'dsm', 'dspg', 'dss', 'dst', 'dsu', 'dsw', 'dswl', 'dsx', 'dsx_b', 'dsxn', 'dte', 'dtea', 'dtf', 'dtj', 'dtk', 'dtla_', 'dtq', 'dtrm', 'dtul', 'dtus', 'dtv', 'dty', 'dtyl', 'dtys', 'duc', 'duk', 'dukh', 'dusa', 'dusl', 'dva', 'dvax', 'dvcr', 'dvd', 'dvem', 'dvmt', 'dvn', 'dvp', 'dwac', 'dwaq', 'dwas', 'dwat', 'dwch', 'dwdp', 'dwfi', 'dwin', 'dwld', 'dwlv', 'dwpp', 'dwsn', 'dwt', 'dwtr', 'dx', 'dx_a', 'dx_b', 'dxb', 'dxc', 'dxcm', 'dxlg', 'dxpe', 'dxr', 'dxtr', 'dxus', 'dxyn', 'dy', 'dyb', 'dyls', 'dyn-ws-a', 'dyn', 'dyn_a', 'dync', 'dynt', 'dysl', 'dzsi', 'e', 'ea', 'eab', 'eacq', 'eacqu', 'eacqw', 'ead', 'eae', 'eagl', 'eaglu', 'eaglw', 'eai', 'earn', 'ears', 'eat', 'ebay', 'ebayl', 'ebf', 'ebio', 'ebix', 'ebmt', 'ebr-b', 'ebr', 'ebs', 'ebsb', 'ebtc', 'ec', 'eca', 'ecc', 'ecca', 'eccb', 'eccy', 'eccz', 'ecf', 'ecf_a', 'echo', 'ecl', 'ecol', 'ecom', 'ecpg', 'ecr', 'ect', 'ecyt', 'ed', 'edap', 'edbi', 'edd', 'edf', 'edge', 'edgw', 'edi', 'edit', 'edn', 'edom', 'edow', 'edr', 'edu', 'educ', 'ee', 'eea', 'eeft', 'eei', 'eemo', 'eemx', 'eep', 'eeq', 'eex', 'efas', 'efax', 'efbi', 'efc', 'eff', 'efii', 'efl', 'efnl', 'efoi', 'efr', 'efsc', 'eft', 'efx', 'egan', 'egbn', 'egf', 'eght', 'egi', 'egif', 'egl', 'egle', 'eglt', 'egn', 'ego', 'egov', 'egp', 'egrx', 'egy', 'ehi', 'ehic', 'eht', 'ehth', 'eia', 'eig', 'eigi', 'eigr', 'eim', 'eio', 'eip', 'eiv', 'eix', 'ekso', 'el', 'elc', 'elec', 'elecu', 'elecw', 'elf', 'elgx', 'elj', 'elli', 'ello', 'elmd', 'elon', 'elp', 'els', 'else', 'eltk', 'elu', 'elvt', 'ely', 'eman', 'embh', 'embu', 'emcf', 'emci', 'emd', 'emdv', 'eme', 'emes', 'emf', 'emgf', 'emhy', 'emi', 'emitf', 'emj', 'emkr', 'eml', 'emms', 'emn', 'emo', 'emp', 'emqq', 'emr', 'emsd', 'emtl', 'emx', 'emxc', 'enb', 'enbl', 'endp', 'enfc', 'eng', 'enh_c', 'enia', 'enic', 'enj', 'enlc', 'enlk', 'eno', 'enor', 'enph', 'enr', 'enrj', 'ens', 'ensg', 'ensv', 'ent', 'enta', 'entg', 'entl', 'entr', 'env', 'enva', 'enx', 'enz', 'enzy', 'eocc', 'eod', 'eog', 'eoi', 'eos', 'eot', 'ep_c', 'epam', 'epay', 'epc', 'epd', 'epe', 'epix', 'epm', 'epr', 'epr_c', 'epr_e', 'epr_f', 'eprf', 'epzm', 'eqbk', 'eqc', 'eqc_d', 'eqco', 'eqfn', 'eqgp', 'eqix', 'eqm', 'eqr', 'eqrr', 'eqs', 'eqt', 'era', 'erc', 'erf', 'ergf', 'erh', 'eri', 'eric', 'erie', 'erii', 'erj', 'erm', 'ern', 'eros', 'eryp', 'es', 'esba', 'esbk', 'esca', 'esdi', 'esdiw', 'ese', 'esea', 'eses', 'esg', 'esgd', 'esge', 'esgf', 'esgg', 'esgl', 'esgn', 'esgr', 'esgs', 'esgu', 'esgw', 'esio', 'esl', 'eslt', 'esnc', 'esnd', 'esnt', 'esp', 'espr', 'esq', 'esrt', 'esrx', 'ess', 'essa', 'este', 'esv', 'esxb', 'etb', 'ete', 'etfc', 'etg', 'eth', 'etho', 'etj', 'etm', 'etmw', 'etn', 'eto', 'etp', 'etr', 'etsy', 'etv', 'etw', 'etx', 'ety', 'eudv', 'eufl', 'eurn', 'eurz', 'euxl', 'ev', 'eva', 'evar', 'evbg', 'evbn', 'evc', 'evep', 'evf', 'evg', 'evgbc', 'evgn', 'evh', 'evhc', 'evi', 'evix', 'evj', 'evk', 'evlmc', 'evlv', 'evm', 'evn', 'evo', 'evok', 'evol', 'evp', 'evr', 'evri', 'evstc', 'evt', 'evtc', 'evv', 'evy', 'ew', 'ewbc', 'ewgs', 'ewmc', 'ewre', 'ewsc', 'ewus', 'exa', 'exac', 'exas', 'exc', 'exd', 'exel', 'exfo', 'exg', 'exiv', 'exk', 'exls', 'exp', 'expd', 'expe', 'expo', 'expr', 'exr', 'extn', 'extr', 'exxi', 'eye', 'eyeg', 'eyegw', 'eyes', 'eyesw', 'eyld', 'ezpw', 'ezt', 'f', 'faar', 'fac', 'faf', 'faln', 'fang', 'fanh', 'fanz', 'farm', 'faro', 'fast', 'fat', 'fate', 'fax', 'fb', 'fbc', 'fbhs', 'fbio', 'fbiz', 'fbk', 'fbm', 'fbms', 'fbnc', 'fbnk', 'fbp', 'fbr', 'fbss', 'fc', 'fcal', 'fcap', 'fcau', 'fcb', 'fcbc', 'fcco', 'fccy', 'fce-a', 'fcef', 'fcel', 'fcf', 'fcfs', 'fcn', 'fcnca', 'fco', 'fcpt', 'fcre', 'fcsc', 'fcvt', 'fcx', 'fdbc', 'fdc', 'fdef', 'fdeu', 'fdlo', 'fdmo', 'fdp', 'fdrr', 'fds', 'fdus', 'fdvv', 'fdx', 'fe', 'fedu', 'feim', 'fele', 'felp', 'fen', 'fenc', 'feng', 'fet', 'feye', 'ff', 'ffbc', 'ffbcw', 'ffbw', 'ffc', 'ffg', 'ffhg', 'ffhl', 'ffic', 'ffin', 'ffiu', 'ffiv', 'ffkt', 'ffnw', 'ffsg', 'fftg', 'ffti', 'ffty', 'ffwm', 'fgbi', 'fgen', 'fgl', 'fgp', 'fh', 'fhb', 'fhn', 'fhn_a', 'fi', 'fibk', 'fibr', 'fico', 'fiee', 'fig', 'fihd', 'fii', 'finl', 'finx', 'fis', 'fisi', 'fisk', 'fisv', 'fit', 'fitb', 'fitbi', 'fiv', 'five', 'fivn', 'fix', 'fixd', 'fizz', 'fl', 'flat', 'flau', 'flbr', 'flc', 'flca', 'flch', 'flco', 'fldm', 'fleu', 'flex', 'flgb', 'flgr', 'flgt', 'flhk', 'flic', 'flio', 'flir', 'fljh', 'fljp', 'flkr', 'flks', 'fll', 'fllv', 'flmb', 'flmx', 'flo', 'flow', 'flqd', 'flqe', 'flqg', 'flqh', 'flql', 'flqm', 'flqs', 'flr', 'fls', 'flt', 'flws', 'flxn', 'flxs', 'fly', 'fmao', 'fmbh', 'fmbi', 'fmc', 'fmci', 'fmcir', 'fmciu', 'fmciw', 'fmdg', 'fmhi', 'fmi', 'fmn', 'fmnb', 'fmo', 'fms', 'fmsa', 'fmx', 'fn', 'fnb', 'fnb_e', 'fnbg', 'fncf', 'fnd', 'fnf', 'fnfv', 'fng', 'fngn', 'fnhc', 'fnjn', 'fnko', 'fnlc', 'fnsr', 'fnte', 'fnteu', 'fntew', 'fnv', 'fnwb', 'foanc', 'foe', 'fof', 'fogo', 'fold', 'fomx', 'fonr', 'for', 'ford', 'fork', 'form', 'forr', 'forty', 'fosl', 'fox', 'foxa', 'foxf', 'fpay', 'fpei', 'fph', 'fpi', 'fpi_b', 'fpp-ws', 'fpp', 'fprx', 'fpt', 'fqal', 'fr', 'fra', 'frac', 'fran', 'frba', 'frbk', 'frc', 'frc_c', 'frc_d', 'frc_e', 'frc_f', 'frc_g', 'frc_h', 'frd', 'fred', 'frgi', 'frme', 'fro', 'frph', 'frpt', 'frsh', 'frsx', 'frt', 'frt_c', 'frta', 'fsac', 'fsacu', 'fsacw', 'fsam', 'fsb', 'fsbc', 'fsbk', 'fsbw', 'fsct', 'fsfg', 'fsi', 'fsic', 'fslr', 'fsm', 'fsnn', 'fsp', 'fss', 'fstr', 'fsv', 'ft', 'ftag', 'ftai', 'ftd', 'ftek', 'fteo', 'ftf', 'ftft', 'fti', 'ftk', 'ftnt', 'ftr', 'ftri', 'ftrpr', 'fts', 'ftv', 'ftva', 'ftxd', 'ftxg', 'ftxh', 'ftxl', 'ftxn', 'ftxo', 'ftxr', 'ful', 'fulll', 'fult', 'fun', 'func', 'fund', 'fusb', 'fut', 'fuv', 'fval', 'fvc', 'fve', 'fwona', 'fwonk', 'fwp', 'fwrd', 'fxep', 'fxjp', 'g', 'gab', 'gab_d', 'gab_g', 'gab_h', 'gab_j', 'gabc', 'gabr', 'gabrw', 'gaia', 'gain', 'gainm', 'gainn', 'gaino', 'gale', 'galt', 'gam', 'gam_b', 'gamr', 'gard', 'gars', 'gass', 'gasx', 'gatx', 'gazb', 'gbab', 'gbci', 'gbdc', 'gbil', 'gbl', 'gbli', 'gblil', 'gbliz', 'gbnk', 'gbr', 'gbt', 'gbx', 'gcap', 'gcbc', 'gch', 'gci', 'gco', 'gcow', 'gcp', 'gcv', 'gcv_b', 'gcvrz', 'gd', 'gddy', 'gden', 'gdi', 'gdl', 'gdl_b', 'gdo', 'gdot', 'gdp', 'gds', 'gdv', 'gdv_a', 'gdv_d', 'gdv_g', 'gdvd', 'ge', 'geb', 'gec', 'gecc', 'geccl', 'gef-b', 'gef', 'geh', 'gek', 'gel', 'gem', 'gemp', 'gen', 'genc', 'gene', 'geny', 'geo', 'geos', 'ger', 'gern', 'ges', 'gevo', 'gf', 'gfa', 'gfed', 'gff', 'gfi', 'gfn', 'gfncp', 'gfnsl', 'gfy', 'gg', 'ggal', 'ggb', 'ggg', 'ggm', 'ggn', 'ggn_b', 'ggo', 'ggo_a', 'ggp', 'ggp_a', 'ggt', 'ggt_b', 'ggt_e', 'ggz', 'ggz_a', 'ggzr', 'ggzrw', 'ghc', 'ghdx', 'ghl', 'ghm', 'ghs', 'ghy', 'ghyb', 'ghyg', 'gib', 'gifi', 'giga', 'gigb', 'gigm', 'giii', 'gil', 'gild', 'gilt', 'gim', 'gimo', 'gis', 'gjh', 'gjo', 'gjp', 'gjr', 'gjs', 'gjt', 'gjv', 'gkos', 'glad', 'gladn', 'glbl', 'glbr', 'glbs', 'glbz', 'gldd', 'gldw', 'glmd', 'glng', 'glo', 'glob', 'glog', 'glog_a', 'glop', 'glop_a', 'glow', 'glp', 'glpg', 'glpi', 'glq', 'glre', 'glt', 'glu', 'glu_a', 'gluu', 'glv', 'glw', 'glyc', 'gm-ws-b', 'gm', 'gme', 'gmed', 'gmfl', 'gmlp', 'gmlpp', 'gmo', 'gmre', 'gmre_a', 'gms', 'gmta', 'gmz', 'gnbc', 'gnc', 'gnca', 'gncma', 'gne', 'gne_a', 'gnk', 'gnl', 'gnl_a', 'gnmk', 'gnmx', 'gnrc', 'gnrt', 'gnrx', 'gnt', 'gnt_a', 'gntx', 'gnty', 'gnus', 'gnw', 'goau', 'goex', 'gof', 'gogl', 'gogo', 'gol', 'gold', 'golf', 'good', 'goodm', 'goodo', 'goodp', 'goog', 'googl', 'goos', 'gop', 'goro', 'gov', 'govni', 'gpac', 'gpacu', 'gpacw', 'gpc', 'gpe_a-cl', 'gpi', 'gpic', 'gpja', 'gpk', 'gpl', 'gpm', 'gpmt', 'gpmtw', 'gpn', 'gpor', 'gpp', 'gpre', 'gprk', 'gpro', 'gps', 'gpt', 'gpt_a', 'gpx', 'gra', 'gram', 'grbk', 'grc', 'grf', 'grfs', 'grif', 'grmn', 'grmy', 'grnb', 'grow', 'grp-u', 'grpn', 'grr', 'grub', 'grvy', 'grx', 'grx_a', 'grx_b', 'gs', 'gs_a', 'gs_b', 'gs_c', 'gs_d', 'gs_i-cl', 'gs_i', 'gs_j', 'gs_k', 'gs_n', 'gsat', 'gsb', 'gsbc', 'gsbd', 'gsd', 'gseu', 'gsew', 'gsh', 'gsht', 'gshtu', 'gshtw', 'gsie', 'gsit', 'gsjy', 'gsk', 'gsl', 'gsl_b', 'gslc', 'gsm', 'gss', 'gssc', 'gst', 'gst_a', 'gst_b', 'gsum', 'gsv', 'gsvc', 'gt', 'gte', 'gthx', 'gtim', 'gtls', 'gtn-a', 'gtn', 'gto', 'gts', 'gtt', 'gtxi', 'gty', 'gtyh', 'gtyhu', 'gtyhw', 'gudb', 'gure', 'gut', 'gut_a', 'gut_c', 'gv', 'gva', 'gvip', 'gvp', 'gwb', 'gwgh', 'gwph', 'gwr', 'gwre', 'gwrs', 'gww', 'gxp', 'gyb', 'gyc', 'gyro', 'gzt', 'h', 'ha', 'habt', 'hack', 'hacv', 'hacw', 'hae', 'hafc', 'haha', 'hain', 'hair', 'hal', 'hall', 'halo', 'has', 'hasi', 'haud', 'hawk', 'hawx', 'hayn', 'hban', 'hbann', 'hbano', 'hbanp', 'hbb', 'hbcp', 'hbhc', 'hbhcl', 'hbi', 'hbio', 'hbk', 'hbm-ws', 'hbm', 'hbmd', 'hbnc', 'hbp', 'hca', 'hcac-u', 'hcac-ws', 'hcac', 'hcap', 'hcapz', 'hcc', 'hcci', 'hchc', 'hci', 'hckt', 'hclp', 'hcm', 'hcn', 'hcn_i', 'hcom', 'hcp', 'hcrf', 'hcsg', 'hd', 'hdaw', 'hdb', 'hdee', 'hdef', 'hdez', 'hdlv', 'hdmv', 'hdng', 'hdp', 'hdrw', 'hds', 'hdsn', 'he', 'he_u', 'hear', 'heb', 'hebt', 'hees', 'hefv', 'hei-a', 'hei', 'hele', 'hemv', 'hep', 'heq', 'hes', 'hes_a', 'hesm', 'heus', 'heuv', 'hewc', 'hewi', 'hewl', 'hewp', 'hewu', 'heww', 'hewy', 'hf', 'hfbc', 'hfbl', 'hfc', 'hfro', 'hfwa', 'hfxe', 'hfxi', 'hfxj', 'hgh', 'hgsd', 'hgsh', 'hgt', 'hgv', 'hhc', 'hhs', 'hhyx', 'hi', 'hibb', 'hie', 'hifr', 'hifs', 'hig-ws', 'hig', 'hiho', 'hii', 'hiiq', 'hil', 'himx', 'hio', 'hips', 'hive', 'hiw', 'hix', 'hjpx', 'hjv', 'hk-ws', 'hk', 'hl', 'hl_b', 'hlf', 'hlg', 'hli', 'hlit', 'hlm_', 'hlne', 'hls', 'hlt', 'hlth', 'hlx', 'hmc', 'hmg', 'hmhc', 'hmlp', 'hmlp_a', 'hmn', 'hmnf', 'hmny', 'hmst', 'hmsy', 'hmta', 'hmtv', 'hmy', 'hni', 'hnna', 'hnp', 'hnrg', 'hnw', 'hoft', 'hog', 'holi', 'holx', 'homb', 'home', 'homl', 'hon', 'hone', 'hope', 'hos', 'hotr', 'hov', 'hovnp', 'hp', 'hpe', 'hpf', 'hpi', 'hpj', 'hpp', 'hpq', 'hps', 'hpt', 'hqcl', 'hqh', 'hql', 'hqy', 'hr', 'hrb', 'hrc', 'hrg', 'hri', 'hrl', 'hrs', 'hrtg', 'hrtx', 'hrzn', 'hsbc', 'hsbc_a', 'hsc', 'hscz', 'hsea', 'hseb', 'hsgx', 'hsic', 'hsii', 'hska', 'hsni', 'hson', 'hst', 'hstm', 'hsy', 'ht', 'ht_c', 'ht_d', 'ht_e', 'hta', 'htbi', 'htbk', 'htbx', 'htd', 'htf-cl', 'htfa', 'htgc', 'htgm', 'htgx', 'hth', 'htht', 'htld', 'htlf', 'htm', 'htrb', 'htus', 'hty', 'htz', 'hubb', 'hubg', 'hubs', 'hum', 'hun', 'hunt', 'huntu', 'huntw', 'hurc', 'hurn', 'husa', 'husv', 'hvbc', 'hvt-a', 'hvt', 'hwbk', 'hwcc', 'hwkn', 'hx', 'hxl', 'hy', 'hyacu', 'hyb', 'hydb', 'hydd', 'hygs', 'hyh', 'hyhg', 'hyi', 'hylb', 'hylv', 'hyt', 'hyxe', 'hyxu', 'hzn', 'hznp', 'hzo', 'i', 'iac', 'iae', 'iaf', 'iag', 'iagg', 'iam', 'iamxr', 'iamxw', 'iart', 'iba', 'ibcp', 'ibd', 'ibdr', 'ibds', 'ibio', 'ibkc', 'ibkco', 'ibkcp', 'ibkr', 'ibm', 'ibmj', 'ibmk', 'ibml', 'ibn', 'ibo', 'iboc', 'ibp', 'ibtx', 'ibuy', 'icad', 'ican', 'icb', 'icbk', 'iccc', 'icch', 'icd', 'ice', 'icfi', 'ichr', 'icl', 'iclr', 'icon', 'icow', 'icpt', 'icsh', 'icui', 'icvt', 'ida', 'idcc', 'ide', 'idev', 'idhd', 'idlb', 'idmo', 'idn', 'idra', 'idsa', 'idsy', 'idt', 'idti', 'idxg', 'idxx', 'iec', 'iep', 'iesc', 'iex', 'if', 'iff', 'ifix', 'ifly', 'ifmk', 'ifn', 'ifon', 'ifrx', 'iga', 'igc', 'igd', 'igeb', 'igem', 'ighg', 'igi', 'igld', 'igr', 'igro', 'igt', 'igvt', 'igz', 'ihc', 'ihd', 'ihg', 'ihit', 'iht', 'iid', 'iif', 'iii', 'iiin', 'iiji', 'iim', 'iin', 'iipr', 'iipr_a', 'iivi', 'iknx', 'ilg', 'ilmn', 'imax', 'imdz', 'imgn', 'imh', 'imi', 'imkta', 'immr', 'immu', 'immy', 'imnp', 'imo', 'imom', 'imos', 'impv', 'imrn', 'imrnw', 'imtb', 'imte', 'imuc-ws', 'imuc', 'inap', 'inb', 'inbk', 'inbkl', 'incr', 'incy', 'indb', 'indf', 'indu', 'induu', 'induw', 'inf', 'infi', 'infn', 'info', 'infr', 'infu', 'infy', 'ing', 'ingn', 'ingr', 'inn', 'inn_b-cl', 'inn_b', 'inn_c', 'inn_d', 'ino', 'inod', 'inov', 'inpx', 'ins', 'inse', 'insg', 'insi', 'insm', 'inst', 'insw', 'insy', 'int', 'intc', 'intg', 'intl', 'intt', 'intu', 'intx', 'inuv', 'inva', 'inve', 'invh', 'inwk', 'inxn', 'io', 'ions', 'ior', 'iosp', 'iots', 'iova', 'ip', 'ipar', 'ipas', 'ipay', 'ipb', 'ipcc', 'ipci', 'ipdn', 'ipg', 'ipgp', 'iphi', 'iphs', 'ipi', 'ipl_d', 'ipoa-u', 'ipoa-ws', 'ipoa', 'ipos', 'ipwr', 'ipxl', 'iqdg', 'iqi', 'ir', 'irbt', 'ircp', 'irdm', 'irdmb', 'iret', 'iret_b-cl', 'iret_c', 'irix', 'irl', 'irlr', 'irm', 'irmd', 'iroq', 'irr', 'irs', 'irt', 'irtc', 'irwd', 'isbc', 'isca', 'isd', 'isdr', 'isf', 'isg', 'isig', 'isl', 'ism', 'ismd', 'isns', 'isp-cl', 'isr', 'isrg', 'isrl', 'issc', 'istr', 'isze', 'it', 'itcb', 'itci', 'itek', 'iteq', 'itg', 'itgr', 'iti', 'itic', 'itri', 'itrn', 'itt', 'itub', 'itus', 'itw', 'ivac', 'ival', 'ivc', 'ivenc', 'ivfgc', 'ivfvc', 'ivh', 'ivlu', 'ivr', 'ivr_a', 'ivr_b', 'ivr_c', 'ivty', 'ivz', 'ix', 'ixys', 'iyld', 'izea', 'jack', 'jag', 'jagx', 'jakk', 'jasn', 'jasnw', 'jaso', 'jax', 'jazz', 'jbgs', 'jbht', 'jbk', 'jbl', 'jblu', 'jbn', 'jbr', 'jbss', 'jbt', 'jcap', 'jce', 'jci', 'jco', 'jcom', 'jcp', 'jcs', 'jctcf', 'jd', 'jdd', 'jdiv', 'je', 'je_a', 'jec', 'jeld', 'jemd', 'jeq', 'jets', 'jfr', 'jgh', 'jha', 'jhb', 'jhd', 'jhg', 'jhi', 'jhma', 'jhmc', 'jhmd', 'jhme', 'jhmf', 'jhmh', 'jhmi', 'jhml', 'jhmm', 'jhms', 'jhmt', 'jhmu', 'jhs', 'jhsc', 'jhx', 'jhy', 'jill', 'jjsf', 'jkhy', 'jks', 'jll', 'jls', 'jmba', 'jmei', 'jmf', 'jmlp', 'jmm', 'jmom', 'jmp', 'jmpb', 'jmpc', 'jmt', 'jmu', 'jnce', 'jnj', 'jnp', 'jnpr', 'job', 'jobs', 'joe', 'jof', 'jone', 'jout', 'jp', 'jpc', 'jpeh', 'jpem', 'jpeu', 'jpgb', 'jphf', 'jphy', 'jpi', 'jpih', 'jpin', 'jpm-ws', 'jpm', 'jpm_a', 'jpm_b', 'jpm_d-cl', 'jpm_d', 'jpm_e', 'jpm_f', 'jpm_g', 'jpm_h', 'jpme', 'jpn', 'jps', 'jpse', 'jpst', 'jpt', 'jpus', 'jpxn', 'jqc', 'jri', 'jrjc', 'jrjr', 'jro', 'jrs', 'jrvr', 'jsd', 'jsm', 'jsmd', 'jsml', 'jsyn', 'jsynr', 'jsynu', 'jsynw', 'jta', 'jtd', 'jtpy', 'juno', 'jva', 'jw-a', 'jw-b', 'jwn', 'jxsb', 'jynt', 'k', 'kaac', 'kaacu', 'kaacw', 'kai', 'kala', 'kalu', 'kalv', 'kamn', 'kang', 'kap', 'kar', 'kb', 'kbal', 'kbh', 'kblm', 'kblmr', 'kblmu', 'kblmw', 'kbr', 'kbsf', 'kbwb', 'kbwd', 'kbwy', 'kcap', 'kcapl', 'kcny', 'kdmn', 'ke', 'ked', 'keg', 'kelya', 'kelyb', 'kem', 'kemp', 'kemq', 'ken', 'kep', 'kequ', 'kerx', 'kex', 'key', 'key_i', 'keys', 'keyw', 'kf', 'kffb', 'kfn_', 'kfrc', 'kfs', 'kfy', 'kgc', 'kgji', 'kgrn', 'khc', 'kids', 'kim', 'kim_i', 'kim_j', 'kim_k', 'kim_l', 'kin', 'kins', 'kio', 'kior', 'kiorw', 'kiq', 'kirk', 'kkr', 'kkr_a', 'kkr_b', 'kl', 'klac', 'kldw', 'kldx', 'klic', 'klxi', 'kmb', 'kmda', 'kmf', 'kmg', 'kmi', 'kmi_a', 'kmm', 'kmpa', 'kmph', 'kmpr', 'kmt', 'kmx', 'kn', 'knd', 'kndi', 'knl', 'knop', 'knsl', 'knx', 'ko', 'kodk-ws-a', 'kodk-ws', 'kodk', 'kof', 'kona', 'kone', 'kool', 'kop', 'kopn', 'kor', 'kors', 'kos', 'koss', 'kpti', 'kr', 'kra', 'krc', 'kref', 'krg', 'krma', 'krnt', 'krny', 'kro', 'krp', 'krys', 'ks', 'ksa', 'ksm', 'kss', 'kst', 'ksu', 'ksu_', 'kt', 'ktcc', 'ktec', 'ktf', 'kth', 'ktn', 'ktos', 'ktov', 'ktovw', 'ktp', 'ktwo', 'kura', 'kvhi', 'kw', 'kweb', 'kwn-cl', 'kwn', 'kwr', 'kye', 'kyn', 'kyn_f', 'kyo', 'l', 'labl', 'lad', 'ladr', 'lake', 'lamr', 'lanc', 'land', 'landp', 'laq', 'lare', 'lark', 'laur', 'laws', 'layn', 'laz', 'lb', 'lbai', 'lbdc', 'lbix', 'lbrda', 'lbrdk', 'lbtya', 'lbtyb', 'lbtyk', 'lby', 'lc', 'lca', 'lcahu', 'lcahw', 'lci', 'lcii', 'lcm', 'lcnb', 'lcut', 'ldf', 'ldl', 'ldos', 'ldp', 'ldr', 'le', 'lea', 'lead', 'leco', 'leds', 'lee', 'leg', 'leju', 'len-b', 'len', 'lens', 'leo', 'leu', 'lexea', 'lexeb', 'lfc', 'lfeq', 'lfgr', 'lfus', 'lfvn', 'lgcy', 'lgcyo', 'lgcyp', 'lgf-a', 'lgf-b', 'lgi', 'lgih', 'lgl', 'lglr', 'lgnd', 'lh', 'lhcg', 'lho', 'lho_i', 'lho_j', 'life', 'lii', 'lila', 'lilak', 'linc', 'lind', 'lindw', 'link', 'linu', 'lion', 'liqt', 'litb', 'lite', 'live', 'livn', 'ljpc', 'lkfn', 'lkor', 'lkq', 'lksd', 'll', 'llex', 'llit', 'lll', 'llnw', 'llqd', 'lly', 'lm', 'lmat', 'lmb', 'lmfa', 'lmfaw', 'lmha', 'lmhb', 'lmnr', 'lmnx', 'lmos', 'lmrk', 'lmrko', 'lmrkp', 'lmt', 'ln', 'lnc-ws', 'lnc', 'lnce', 'lnd', 'lndc', 'lng', 'lngr', 'lnn', 'lnt', 'lnth', 'loan', 'lob', 'loco', 'lode', 'logi', 'logm', 'logo', 'loma', 'lone', 'lope', 'lor', 'lorl', 'lov', 'lovw', 'low', 'loxo', 'lpcn', 'lpg', 'lpi', 'lpl', 'lpla', 'lpnt', 'lpsn', 'lpt', 'lpth', 'lptx', 'lpx', 'lq', 'lqdt', 'lrad', 'lrcx', 'lret', 'lrge', 'lrn', 'lsbk', 'lscc', 'lsi', 'lstr', 'lsvx', 'lsxma', 'lsxmb', 'lsxmk', 'ltbr', 'ltc', 'ltea', 'ltm', 'ltrpa', 'ltrpb', 'ltrx', 'lts', 'lts_a', 'ltxb', 'lub', 'luk', 'lulu', 'luna', 'luv', 'lvhb', 'lvhd', 'lvhe', 'lvhi', 'lvin', 'lvlt', 'lvnta', 'lvntb', 'lvs', 'lvus', 'lw', 'lway', 'lxfr', 'lxft', 'lxp', 'lxp_c', 'lxrx', 'lxu', 'lyb', 'lyg', 'lyl', 'lyts', 'lyv', 'lzb', 'm', 'ma', 'maa', 'maa_i', 'mab', 'mac', 'mack', 'macq', 'macqu', 'macqw', 'mag', 'maga', 'mags', 'main', 'mams', 'man', 'manh', 'mant', 'manu', 'mar', 'mara', 'mark', 'marps', 'mas', 'masi', 'mat', 'matf', 'matr', 'matw', 'matx', 'mav', 'maxr', 'mays', 'mb', 'mbcn', 'mbfi', 'mbfip', 'mbi', 'mbii', 'mbin', 'mbio', 'mbot', 'mbrx', 'mbt', 'mbtf', 'mbuu', 'mbvx', 'mbwm', 'mc', 'mca', 'mcb', 'mcbc', 'mcc', 'mcd', 'mcef', 'mcep', 'mcf', 'mcft', 'mchp', 'mchx', 'mci', 'mck', 'mcn', 'mco', 'mcr', 'mcrb', 'mcri', 'mcrn', 'mcs', 'mcv', 'mcx', 'mcy', 'md', 'mdb', 'mdc', 'mdca', 'mdco', 'mdgl', 'mdgs', 'mdlq', 'mdlx', 'mdly', 'mdlz', 'mdp', 'mdr', 'mdrx', 'mdso', 'mdt', 'mdu', 'mdvx', 'mdvxw', 'mdwd', 'mdxg', 'mear', 'med', 'medp', 'meet', 'mei', 'meip', 'meli', 'melr', 'men', 'menu', 'meoh', 'mer_k', 'mer_p', 'merc', 'meso', 'met', 'met_a', 'metc', 'mexx', 'mfa', 'mfa_b', 'mfc', 'mfcb', 'mfdx', 'mfem', 'mfg', 'mfgp', 'mfin', 'mfinl', 'mfl', 'mfm', 'mfnc', 'mfo', 'mfsf', 'mft', 'mfus', 'mfv', 'mg', 'mga', 'mgcd', 'mgee', 'mgen', 'mgf', 'mgi', 'mgic', 'mgln', 'mgm', 'mgnx', 'mgp', 'mgpi', 'mgrc', 'mgu', 'mgyr', 'mh_a', 'mh_c', 'mh_d', 'mhd', 'mhe', 'mhf', 'mhh', 'mhi', 'mhk', 'mhla', 'mhld', 'mhn', 'mhnc', 'mho', 'mic', 'micr', 'mict', 'mictw', 'midd', 'mie', 'miii', 'miiiu', 'miiiw', 'mik', 'miln', 'mime', 'min', 'mind', 'mindp', 'mini', 'mitk', 'mitl', 'mitt', 'mitt_a', 'mitt_b', 'miw', 'mixt', 'miy', 'mjco', 'mkc-v', 'mkc', 'mkl', 'mksi', 'mktx', 'mlab', 'mlco', 'mlhr', 'mli', 'mlm', 'mlnk', 'mlnt', 'mlnx', 'mlp', 'mlpb', 'mlpq', 'mlpz', 'mlqd', 'mlr', 'mlss', 'mlti', 'mlvf', 'mmac', 'mmc', 'mmd', 'mmdm', 'mmdmr', 'mmdmu', 'mmdmw', 'mmi', 'mmit', 'mmlp', 'mmm', 'mmp', 'mms', 'mmsi', 'mmt', 'mmu', 'mmv', 'mmyt', 'mn', 'mndo', 'mne', 'mnga', 'mni', 'mnk', 'mnkd', 'mnov', 'mnp', 'mnr', 'mnr_c', 'mnro', 'mnst', 'mnta', 'mntx', 'mo', 'mobl', 'moc', 'mod', 'modn', 'mofg', 'mog-a', 'mog-b', 'moglc', 'moh', 'momo', 'mon', 'morn', 'mos', 'mosc-u', 'mosy', 'moti', 'mov', 'moxc', 'mp_d', 'mpa', 'mpaa', 'mpac', 'mpacu', 'mpacw', 'mpb', 'mpc', 'mpct', 'mplx', 'mpo', 'mpv', 'mpvd', 'mpw', 'mpwr', 'mpx', 'mqt', 'mqy', 'mram', 'mrbk', 'mrc', 'mrcc', 'mrcy', 'mrdn', 'mrdnw', 'mrin', 'mrk', 'mrln', 'mrns', 'mro', 'mrrl', 'mrsn', 'mrt', 'mrtn', 'mrtx', 'mrus', 'mrvl', 'ms', 'ms_a', 'ms_e', 'ms_f', 'ms_g', 'ms_i', 'ms_k', 'msa', 'msb', 'msbf', 'msbi', 'msca', 'mscc', 'msci', 'msd', 'msdi', 'msdiw', 'msex', 'msf', 'msfg', 'msft', 'msg', 'msgn', 'msi', 'msl', 'msm', 'msn', 'mson', 'msp', 'mstr', 'mt', 'mtb-ws', 'mtb', 'mtb_', 'mtb_c', 'mtbc', 'mtbcp', 'mtch', 'mtd', 'mtdr', 'mtem', 'mtex', 'mtfb', 'mtfbw', 'mtg', 'mtge', 'mtgep', 'mth', 'mtl', 'mtl_', 'mtls', 'mtn', 'mtnb', 'mtor', 'mtp', 'mtr', 'mtrn', 'mtrx', 'mtsc', 'mtsi', 'mtsl', 'mtt', 'mtu', 'mtw', 'mtx', 'mtz', 'mu', 'mua', 'muc', 'mue', 'muh', 'mui', 'muj', 'mule', 'mur', 'mus', 'musa', 'mux', 'mvc', 'mvcb', 'mvf', 'mvin', 'mvis', 'mvo', 'mvt', 'mwa', 'mx', 'mxc', 'mxdu', 'mxe', 'mxf', 'mxim', 'mxl', 'mxwl', 'myc', 'myd', 'mye', 'myf', 'mygn', 'myi', 'myj', 'myl', 'myn', 'mynd', 'myndw', 'myo', 'myok', 'myos', 'myov', 'myrg', 'mysz', 'mza', 'mzf', 'mzor', 'nac', 'nad', 'naii', 'nail', 'nak', 'nakd', 'nan', 'nano', 'nanr', 'nao', 'naov', 'nap', 'nat', 'nath', 'nati', 'natr', 'nauh', 'nav', 'nav_d', 'navb', 'navg', 'navi', 'naz', 'nbb', 'nbd', 'nbev', 'nbh', 'nbhc', 'nbix', 'nbl', 'nblx', 'nbn', 'nbo', 'nbr', 'nbrv', 'nbtb', 'nbw', 'nby', 'nc', 'nca', 'ncb', 'ncbs', 'nci', 'nclh', 'ncmi', 'ncna', 'ncom', 'ncr', 'ncs', 'ncsm', 'ncty', 'ncv', 'ncz', 'ndaq', 'ndls', 'ndp', 'ndra', 'ndraw', 'ndrm', 'ndro', 'ndsn', 'ne', 'nea', 'nee', 'nee_c-cl', 'nee_c', 'nee_g-cl', 'nee_h-cl', 'nee_i', 'nee_j', 'nee_k', 'nee_q', 'nee_r', 'nem', 'nen', 'neo', 'neog', 'neon', 'neos', 'neot', 'nep', 'nept', 'nerv', 'nes', 'nesr', 'nesrw', 'nete', 'nets', 'neu', 'nev', 'newa', 'newm', 'newr', 'news', 'newt', 'newtl', 'newtz', 'nexa', 'next', 'nextw', 'nfbk', 'nfec', 'nfg', 'nfj', 'nflt', 'nflx', 'nfx', 'ng', 'ngd', 'ngg', 'nghc', 'nghcn', 'nghco', 'nghcp', 'nghcz', 'ngl', 'ngl_b', 'ngls_a', 'ngs', 'ngvc', 'ngvt', 'nh', 'nha', 'nhc', 'nhf', 'nhi', 'nhld', 'nhldw', 'nhs', 'nhtc', 'ni', 'nice', 'nick', 'nid', 'nie', 'nihd', 'nim', 'niq', 'nite', 'njr', 'njv', 'nk', 'nke', 'nkg', 'nksh', 'nktr', 'nkx', 'nl', 'nlnk', 'nls', 'nlsn', 'nlst', 'nly', 'nly_c', 'nly_d', 'nly_e', 'nly_f', 'nm', 'nm_g', 'nm_h', 'nmfc', 'nmi', 'nmih', 'nmk_b', 'nmk_c', 'nml', 'nmm', 'nmr', 'nmrx', 'nms', 'nmt', 'nmy', 'nmz', 'nna', 'nnbr', 'nnc', 'nndm', 'nni', 'nnn', 'nnn_e', 'nnn_f', 'nnvc', 'nny', 'noa', 'noah', 'noc', 'nodk', 'nog', 'nok', 'nom', 'nomd', 'nov', 'novn', 'novt', 'now', 'np', 'npk', 'npn', 'npo', 'nptn', 'npv', 'nq', 'nqp', 'nr', 'nrcia', 'nrcib', 'nre', 'nrg', 'nrim', 'nrk', 'nro', 'nrp', 'nrt', 'nrz', 'ns', 'ns_a', 'ns_b', 'nsa', 'nsa_a', 'nsc', 'nsec', 'nsh', 'nsit', 'nsl', 'nsm', 'nsp', 'nspr-ws-b', 'nspr-ws', 'nspr', 'nss', 'nssc', 'nstg', 'nsu', 'nsys', 'ntap', 'ntb', 'ntc', 'ntct', 'ntec', 'ntes', 'ntg', 'ntgr', 'ntic', 'ntip', 'ntl', 'ntla', 'ntn', 'ntnx', 'ntp', 'ntra', 'ntri', 'ntrp', 'ntrs', 'ntrsp', 'ntwk', 'ntx', 'ntz', 'nuag', 'nuan', 'nubd', 'nudm', 'nue', 'nuem', 'nulg', 'nulv', 'num', 'numg', 'numv', 'nuo', 'nure', 'nuro', 'nurow', 'nus', 'nusa', 'nusc', 'nuv', 'nuva', 'nuw', 'nvax', 'nvcn', 'nvcr', 'nvda', 'nvec', 'nvee', 'nvfy', 'nvg', 'nvgn', 'nvgs', 'nviv', 'nvln', 'nvmi', 'nvo', 'nvr', 'nvro', 'nvs', 'nvta', 'nvtr', 'nvus', 'nw_c-cl', 'nwbi', 'nwe', 'nwfl', 'nwhm', 'nwl', 'nwli', 'nwn', 'nwpx', 'nws', 'nwsa', 'nwy', 'nx', 'nxc', 'nxe', 'nxeo', 'nxeou', 'nxeow', 'nxj', 'nxn', 'nxp', 'nxpi', 'nxq', 'nxr', 'nxrt', 'nxst', 'nxtd', 'nxtdw', 'nxtm', 'nycb', 'nycb_a', 'nycb_u', 'nyh', 'nyld-a', 'nyld', 'nymt', 'nymtn', 'nymto', 'nymtp', 'nymx', 'nyny', 'nyrt', 'nyt', 'nyv', 'nzf', 'o', 'oa', 'oacq', 'oacqr', 'oacqu', 'oacqw', 'oak', 'oaks', 'oaks_a', 'oaph', 'oas', 'oasi', 'oasm', 'obas', 'obci', 'obe', 'obln', 'obor', 'obsv', 'oc', 'occ', 'ocfc', 'ocio', 'ocip', 'oclr', 'ocn', 'ocrx', 'ocsi', 'ocsl', 'ocsll', 'ocul', 'ocx', 'odc', 'odfl', 'odp', 'oec', 'oesx', 'oeuh', 'oeur', 'oew', 'ofc', 'ofed', 'ofg', 'ofg_a', 'ofg_b', 'ofg_d', 'ofix', 'oflx', 'ofs', 'ogcp', 'oge', 'ogen', 'ogs', 'ohai', 'ohgi', 'ohi', 'ohrp', 'oi', 'oia', 'oibr-c', 'oii', 'oiil', 'oiim', 'oilb', 'oild', 'oilk', 'oilu', 'oilx', 'ois', 'oke', 'oksb', 'okta', 'olbk', 'old', 'oled', 'olli', 'oln', 'olp', 'omaa', 'omab', 'omam', 'omc', 'omcl', 'ome', 'omed', 'omer', 'omex', 'omf', 'omfl', 'omfs', 'omi', 'omn', 'omnt', 'omp', 'on', 'onb', 'once', 'oncs', 'ondk', 'oneo', 'onev', 'oney', 'onp', 'ons', 'onsiw', 'onsiz', 'ontl', 'ontx', 'ontxw', 'onvi', 'onvo', 'ooma', 'opb', 'opgn', 'opgnw', 'ophc', 'opht', 'opk', 'opnt', 'opof', 'opp', 'optn', 'optt', 'opy', 'or', 'ora', 'oran', 'orbc', 'orbk', 'orc', 'orcl', 'orex', 'org', 'ori', 'orig', 'orit', 'orly', 'orm', 'ormp', 'orn', 'orpn', 'orrf', 'osb', 'osbc', 'osbcp', 'osg', 'osis', 'osk', 'osle', 'osn', 'ospr', 'ospru', 'osprw', 'ostk', 'osur', 'otel', 'otex', 'otic', 'otiv', 'ottr', 'ottw', 'ousa', 'ousm', 'out', 'ovas', 'ovbc', 'ovid', 'ovly', 'oxbr', 'oxbrw', 'oxfd', 'oxlc', 'oxlcm', 'oxlco', 'oxm', 'oxy', 'ozm', 'ozrk', 'p', 'paa', 'paas', 'pac', 'pacb', 'pacw', 'pag', 'pagp', 'pah', 'pahc', 'pai', 'pam', 'panl', 'panw', 'par', 'parr', 'pati', 'patk', 'pave', 'pavm', 'pavmw', 'pay', 'payc', 'payx', 'pb', 'pba', 'pbb', 'pbbi', 'pbct', 'pbctp', 'pbdm', 'pbee', 'pbf', 'pbfx', 'pbh', 'pbhc', 'pbi', 'pbi_b', 'pbib', 'pbip', 'pbmd', 'pbnc', 'pbnd', 'pbpb', 'pbr-a', 'pbr', 'pbsk', 'pbsm', 'pbt', 'pbus', 'pbyi', 'pcar', 'pcbk', 'pcf', 'pcg', 'pcg_a', 'pcg_b', 'pcg_c', 'pcg_d', 'pcg_e', 'pcg_g', 'pcg_h', 'pcg_i', 'pch', 'pci', 'pck', 'pcln', 'pcm', 'pcmi', 'pcn', 'pco', 'pcom', 'pcq', 'pcrx', 'pcsb', 'pcti', 'pcty', 'pcyg', 'pcyo', 'pdce', 'pdco', 'pdex', 'pdfs', 'pdi', 'pdlb', 'pdli', 'pdm', 'pdp', 'pds', 'pdt', 'pdvw', 'pe', 'peb', 'peb_c', 'peb_d', 'pebk', 'pebo', 'ped', 'peg', 'pega', 'pegi', 'pei', 'pei_b', 'pei_c', 'pei_d', 'peix', 'pen', 'penn', 'peo', 'pep', 'per', 'peri', 'pery', 'pes', 'pesi', 'petq', 'pets', 'petx', 'petz', 'pf', 'pfbc', 'pfbi', 'pfbx', 'pfd', 'pfe', 'pffd', 'pffr', 'pfg', 'pfgc', 'pfh', 'pfi', 'pfie', 'pfin', 'pfis', 'pfk', 'pfl', 'pflt', 'pfmt', 'pfn', 'pfnx', 'pfo', 'pfpt', 'pfs', 'pfsi', 'pfsw', 'pg', 'pgc', 'pgem', 'pgh', 'pglc', 'pgnx', 'pgp', 'pgr', 'pgre', 'pgti', 'pgz', 'ph', 'phd', 'phg', 'phh', 'phi', 'phii', 'phiik', 'phk', 'phm', 'pho', 'pht', 'phx', 'phys', 'pi', 'pico', 'pid', 'pih', 'pii', 'pim', 'pinc', 'pir', 'pirs', 'pixy', 'piy', 'piz', 'pjc', 'pjh', 'pjt', 'pk', 'pkbk', 'pkd', 'pke', 'pkg', 'pki', 'pko', 'pkoh', 'pkw', 'pkx', 'pky', 'plab', 'play', 'plbc', 'plce', 'pld', 'plg', 'plm', 'plnt', 'plow', 'plpc', 'plpm', 'plse', 'plt', 'plug', 'plus', 'plw', 'plx', 'plxp', 'plxs', 'plya', 'plym', 'plym_a', 'pm', 'pmbc', 'pmc', 'pmd', 'pme', 'pmf', 'pml', 'pmm', 'pmo', 'pmom', 'pmpt', 'pmt', 'pmt_a', 'pmt_b', 'pmts', 'pmx', 'pn', 'pnbk', 'pnc-ws', 'pnc', 'pnc_p', 'pnc_q', 'pnf', 'pnfp', 'pni', 'pnk', 'pnm', 'pnnt', 'pnr', 'pnrg', 'pntr', 'pnw', 'podd', 'pol', 'pola', 'pool', 'pope', 'por', 'post', 'pot', 'powi', 'powl', 'ppbi', 'ppc', 'ppdf', 'ppg', 'pphm', 'pphmp', 'ppih', 'ppl', 'ppln', 'ppr', 'ppsi', 'ppt', 'ppx', 'pq', 'pqg', 'pra', 'praa', 'prah', 'pran', 'prcp', 'pre_f', 'pre_g', 'pre_h', 'pre_i', 'pref', 'prft', 'prgo', 'prgs', 'prgx', 'prh', 'pri', 'prim', 'prk', 'prkr', 'prlb', 'prme', 'prmw', 'prnt', 'pro', 'prov', 'prph', 'prpo', 'prqr', 'prsc', 'prss', 'prta', 'prtk', 'prto', 'prts', 'prty', 'pru', 'psa', 'psa_a', 'psa_b', 'psa_c', 'psa_d', 'psa_e', 'psa_f', 'psa_g', 'psa_u', 'psa_v', 'psa_w', 'psa_x', 'psa_y', 'psa_z', 'psb', 'psb_t', 'psb_u', 'psb_v', 'psb_w', 'psb_x', 'psc', 'psdo', 'psdv', 'psec', 'pset', 'psf', 'psl', 'pslv', 'psmb', 'psmc', 'psmg', 'psmm', 'psmt', 'pso', 'pstb', 'pstg', 'psti', 'psx', 'psxp', 'ptc', 'ptct', 'pten', 'pteu', 'ptf', 'ptgx', 'pth', 'pti', 'ptie', 'ptla', 'ptlc', 'ptmc', 'ptn', 'ptnq', 'ptnr', 'ptr', 'ptsi', 'ptx', 'pty', 'pub', 'pui', 'puk', 'puk_', 'puk_a', 'pulm', 'pump', 'putw', 'pvac', 'pval', 'pvbc', 'pvg', 'pvh', 'pw', 'pw_a', 'pwod', 'pwr', 'px', 'pxd', 'pxi', 'pxlw', 'pxs', 'py', 'pyds', 'pyn', 'pypl', 'pys', 'pyt', 'pyz', 'pzc', 'pze', 'pzg', 'pzn', 'pzrx', 'pzza', 'q', 'qada', 'qadb', 'qbak', 'qcom', 'qcp', 'qcrh', 'qd', 'qdel', 'qep', 'qgen', 'qgta', 'qhc', 'qiwi', 'qlc', 'qlys', 'qmom', 'qnst', 'qqqx', 'qrhc', 'qrvo', 'qsii', 'qsr', 'qtm', 'qtna', 'qtnt', 'qtrh', 'qts', 'qtwo', 'quad', 'quik', 'qumu', 'quot', 'qure', 'qval', 'qvca', 'qvcb', 'qvm', 'qxgg', 'qxmi', 'qxrr', 'qxtr', 'r', 'ra', 'race', 'rad', 'rada', 'rail', 'rand', 'rare', 'rarx', 'ras', 'ras_a', 'ras_b', 'ras_c', 'rate', 'rave', 'ravn', 'rba', 'rbb', 'rbc', 'rbcaa', 'rbcn', 'rbin', 'rbpaa', 'rbs', 'rbs_s', 'rbus', 'rcg', 'rci', 'rcii', 'rcky', 'rcl', 'rcm', 'rcmt', 'rcom', 'rcon', 'rcs', 'rdc', 'rdcm', 'rdfn', 'rdhl', 'rdi', 'rdib', 'rdn', 'rdnt', 'rds-a', 'rds-b', 'rdus', 'rdwr', 'rdy', 're', 'recn', 'redu', 'reed', 'reem', 'refa', 'refr', 'reg', 'regi', 'regn', 'rei', 'reis', 'rell', 'relv', 'relx', 'rely', 'reml', 'ren', 'renn', 'renx', 'reph', 'res', 'resi', 'resn', 'reta', 'rev', 'revg', 'rex', 'rexr', 'rexr_a', 'rexx', 'rf', 'rf_a', 'rf_b', 'rfap', 'rfci', 'rfda', 'rfdi', 'rfem', 'rfeu', 'rffc', 'rfi', 'rfil', 'rfp', 'rft', 'rfta', 'rfun', 'rga', 'rgc', 'rgco', 'rgen', 'rglb', 'rgld', 'rgls', 'rgnx', 'rgr', 'rgs', 'rgse', 'rgt', 'rh', 'rhe', 'rhe_a', 'rhi', 'rhp', 'rht', 'ribt', 'ribtw', 'ric', 'rice', 'rick', 'rif', 'rig', 'rigl', 'rily', 'rilyl', 'rilyz', 'rio', 'riot', 'rise', 'riv', 'rivr', 'rivrw', 'rjf', 'rkda', 'rl', 'rlgt', 'rlgt_a', 'rlgy', 'rlh', 'rli', 'rlj', 'rlj_a', 'rlje', 'rlog', 'rm', 'rmax', 'rmbl', 'rmbs', 'rmcf', 'rmd', 'rmgn', 'rmni', 'rmniu', 'rmniw', 'rmp', 'rmpl_', 'rmr', 'rmt', 'rmti', 'rndb', 'rndm', 'rndv', 'rnem', 'rnet', 'rng', 'rngr', 'rnlc', 'rnmc', 'rnn', 'rnp', 'rnr', 'rnr_c', 'rnr_e', 'rnsc', 'rnst', 'rnva', 'rnvaz', 'rnwk', 'roam', 'rock', 'rodm', 'rog', 'rogs', 'roic', 'rok', 'roka', 'roku', 'rol', 'roll', 'rop', 'rore', 'rose', 'roseu', 'rosew', 'rosg', 'rost', 'rous', 'rox', 'royt', 'rp', 'rpai', 'rpai_a-cl', 'rpai_a', 'rpd', 'rpm', 'rprx', 'rpt', 'rpt_d', 'rpxc', 'rqi', 'rrc', 'rrd', 'rrgb', 'rrr', 'rrts', 'rs', 'rsg', 'rsls', 'rso', 'rso_a', 'rso_b', 'rso_c', 'rspp', 'rst', 'rsys', 'rt', 'rtec', 'rtix', 'rtk', 'rtn', 'rtnb', 'rtrx', 'rttr', 'rubi', 'run', 'rusha', 'rushb', 'ruth', 'rven', 'rvlt', 'rvnc', 'rvp', 'rvrs', 'rvsb', 'rvt', 'rwc', 'rwlk', 'rwt', 'rxdx', 'rxii', 'rxiiw', 'rxn', 'rxn_a', 'ry', 'ry_s-cl', 'ry_t', 'ryaay', 'ryam', 'ryam_a', 'ryb', 'ryi', 'ryn', 'rytm', 'rza', 'rzb', 's', 'sa', 'sab', 'sabr', 'sach', 'saex', 'safe', 'safm', 'saft', 'sage', 'sah', 'saia', 'saic', 'sal', 'salm', 'salt', 'sam', 'samg', 'san', 'san_a', 'san_b', 'san_c', 'san_i', 'sand', 'sanm', 'sanw', 'sap', 'sar', 'sasr', 'sats', 'sauc', 'save', 'sb', 'sb_b', 'sb_c', 'sb_d', 'sbac', 'sbbc', 'sbbp', 'sbbx', 'sbcf', 'sbcp', 'sbfg', 'sbfgp', 'sbgi', 'sbgl', 'sbh', 'sbi', 'sblk', 'sblkl', 'sbna', 'sbnb', 'sbny', 'sbnyw', 'sbot', 'sbow', 'sbph', 'sbr', 'sbra', 'sbrap', 'sbs', 'sbsi', 'sbux', 'sc', 'sca', 'scac', 'scacu', 'scacw', 'scap', 'scco', 'scd', 'sce_b', 'sce_c', 'sce_d', 'sce_e', 'sce_g', 'sce_h', 'sce_j', 'sce_k', 'sce_l', 'scg', 'schk', 'schl', 'schn', 'schw', 'schw_b-cl', 'schw_b', 'schw_c', 'schw_d', 'sci', 'sckt', 'scl', 'scln', 'scm', 'scmp', 'scon', 'scs', 'scsc', 'scvl', 'scwx', 'scx', 'scyx', 'sd', 'sdlp', 'sdpi', 'sdr', 'sdrl', 'sdt', 'sdvy', 'se', 'seac', 'seas', 'seb', 'seco', 'sect', 'sedg', 'see', 'seed', 'seic', 'selb', 'self', 'sem', 'semg', 'senea', 'seneb', 'sens', 'sep', 'serv', 'sf', 'sf_a', 'sfb', 'sfbc', 'sfbs', 'sfe', 'sfhy', 'sfig', 'sfl', 'sfly', 'sfm', 'sfnc', 'sfr', 'sfs', 'sfst', 'sfun', 'sga', 'sgb', 'sgbx', 'sgc', 'sgen', 'sgf', 'sgh', 'sglb', 'sglbw', 'sgma', 'sgmo', 'sgms', 'sgoc', 'sgqi', 'sgrp', 'sgry', 'sgu', 'sgy-ws', 'sgy', 'sgyp', 'sgza', 'shag', 'shak', 'shbi', 'she', 'shen', 'shg', 'shi', 'ship', 'shipw', 'shld', 'shldw', 'shlm', 'shlo', 'shlx', 'shny', 'sho', 'sho_e', 'sho_f', 'shoo', 'shop', 'shos', 'shpg', 'shsp', 'shw', 'sid', 'sieb', 'sien', 'sif', 'sifi', 'sify', 'sig', 'sigi', 'sigm', 'silc', 'sim', 'simo', 'sina', 'sino', 'sir', 'siri', 'site', 'sito', 'sivb', 'sivbo', 'six', 'sji', 'sjm', 'sjr', 'sjt', 'sjw', 'skis', 'skln', 'skm', 'skt', 'skx', 'sky', 'skys', 'skyw', 'slab', 'slb', 'slca', 'slct', 'sld', 'slda', 'slf', 'slg', 'slg_i', 'slgn', 'slim', 'slm', 'slmbp', 'slno', 'slnow', 'slp', 'slra', 'slrc', 'sltb', 'sm', 'smbc', 'smbk', 'smci', 'smcp', 'smed', 'smfg', 'smg', 'smhd', 'smhi', 'smi', 'smin', 'smit', 'smlp', 'smm', 'smmd', 'smmf', 'smmt', 'smmv', 'smp', 'smpl', 'smplw', 'smrt', 'smsi', 'smtc', 'smts', 'smtx', 'sn', 'sna', 'snak', 'snap', 'snbc', 'snbr', 'snc', 'sncr', 'snd', 'snde', 'sndr', 'sndx', 'sne', 'snes', 'snfca', 'sngx', 'sngxw', 'snh', 'snhni', 'snhnl', 'snhy', 'sni', 'snmp', 'snmx', 'snn', 'snna', 'snoa', 'snoaw', 'snp', 'snps', 'snr', 'snsr', 'snss', 'snv', 'snv_c', 'snx', 'sny', 'so', 'soda', 'sofo', 'sogo', 'soho', 'sohob', 'sohom', 'sohoo', 'sohu', 'soi', 'soja', 'sojb', 'sol', 'son', 'sona', 'sonc', 'sons', 'sor', 'sorl', 'sov_c', 'sovb', 'sp', 'spa', 'spab', 'spar', 'spb', 'spcb', 'spdn', 'spdw', 'spe', 'spe_b', 'spem', 'spex', 'spg', 'spg_j', 'spgi', 'sph', 'sphs', 'spi', 'spib', 'spil', 'spke', 'spkep', 'splb', 'splg', 'splk', 'splp', 'splp_a', 'splp_t', 'spmd', 'spmo', 'spmv', 'spn', 'spne', 'spns', 'spok', 'sppi', 'sppp', 'spr', 'spro', 'sprt', 'spsb', 'spsc', 'spsm', 'sptl', 'sptm', 'sptn', 'spts', 'spun', 'spvm', 'spvu', 'spwh', 'spwr', 'spxc', 'spxe', 'spxn', 'spxt', 'spxv', 'spxx', 'spyd', 'spyx', 'sq', 'sqbg', 'sqlv', 'sqm', 'sqns', 'sqzz', 'sr', 'srax', 'src', 'src_a', 'srce', 'srci', 'srcl', 'srclp', 'srdx', 'sre', 'srev', 'srf', 'srg', 'sri', 'srlp', 'srne', 'srpt', 'srra', 'srt', 'srts', 'srtsw', 'srun', 'srunu', 'srunw', 'srv', 'ssb', 'ssbi', 'ssc', 'ssd', 'ssfn', 'ssi', 'sskn', 'ssl', 'ssn', 'ssnc', 'ssni', 'ssnt', 'ssp', 'ssrm', 'ssti', 'sstk', 'ssw', 'ssw_d', 'ssw_e', 'ssw_g', 'ssw_h', 'sswa', 'sswn', 'ssy', 'ssys', 'st', 'staa', 'staf', 'stag', 'stag_b', 'stag_c', 'star', 'star_d', 'star_e', 'star_f', 'star_g', 'star_i', 'stay', 'stb', 'stba', 'stbz', 'stc', 'stdy', 'ste', 'stfc', 'sti-ws-a', 'sti-ws-b', 'sti', 'sti_a', 'sti_e', 'stk', 'stkl', 'stks', 'stl', 'stl_a', 'stld', 'stlr', 'stlru', 'stlrw', 'stly', 'stm', 'stml', 'stmp', 'stn', 'stng', 'stnlu', 'sto', 'ston', 'stor', 'stot', 'stpp', 'stra', 'strl', 'strm', 'strp', 'strs', 'strt', 'stt', 'stt_c', 'stt_d', 'stt_e', 'stt_g', 'stwd', 'stx', 'stz-b', 'stz', 'su', 'sui', 'sui_a', 'sum', 'sumr', 'sun', 'suns', 'sunw', 'sup', 'supn', 'supv', 'susa', 'susb', 'susc', 'sva', 'svbi', 'svm', 'svra', 'svt', 'svu', 'svvc', 'swch', 'swin', 'swir', 'swj', 'swk', 'swks', 'swm', 'swn', 'swnc', 'swp', 'swx', 'swz', 'sxc', 'sxcp', 'sxe', 'sxi', 'sxt', 'sybt', 'sybx', 'syf', 'syk', 'syke', 'symc', 'symx', 'syn', 'syna', 'sync', 'synl', 'synt', 'sypr', 'syrs', 'syt', 'syx', 'syy', 'szc', 't', 'ta', 'tac', 'taco', 'tacow', 'tact', 'taho', 'tail', 'tait', 'tal', 'tanh', 'tanni', 'tannl', 'tannz', 'tap-a', 'tap', 'tapr', 'taro', 'tast', 'tat', 'tatt', 'tax', 'taxr', 'tayd', 'tbb', 'tbbk', 'tbi', 'tbk', 'tblu', 'tbnk', 'tbph', 'tcap', 'tcbi', 'tcbil', 'tcbip', 'tcbiw', 'tcbk', 'tcca', 'tccb', 'tcco', 'tcf-ws', 'tcf', 'tcf_b-cl', 'tcf_c', 'tcf_d', 'tcfc', 'tcgp', 'tchf', 'tci', 'tcmd', 'tco', 'tco_j', 'tco_k', 'tcon', 'tcp', 'tcpc', 'tcrd', 'tcrx', 'tcrz', 'tcs', 'tctl', 'tcx', 'td', 'tda', 'tdc', 'tde', 'tdf', 'tdg', 'tdi', 'tdj', 'tdoc', 'tds', 'tdw-ws-a', 'tdw-ws-b', 'tdw', 'tdy', 'team', 'tear', 'tecd', 'tech', 'teck', 'tedu', 'tef', 'tegp', 'tei', 'tel', 'tell', 'ten', 'tenx', 'teo', 'tep', 'ter', 'term', 'terp', 'teso', 'tess', 'tetf', 'teum', 'teva', 'tex', 'tfsl', 'tfx', 'tg', 'tga', 'tgb', 'tgc', 'tgen', 'tgh', 'tgi', 'tgls', 'tgna', 'tgp', 'tgp_a', 'tgp_b', 'tgs', 'tgt', 'tgtx', 'thc', 'thff', 'thg', 'thga', 'thm', 'tho', 'thq', 'thr', 'thrm', 'ths', 'thst', 'thw', 'ti-a', 'ti', 'ticc', 'ticcl', 'tier', 'tif', 'tig', 'tik', 'til', 'tile', 'time', 'tipt', 'tis', 'tisa', 'tisi', 'titn', 'tivo', 'tjx', 'tk', 'tkat', 'tkc', 'tkf', 'tkr', 'tldh', 'tleh', 'tlf', 'tlgt', 'tli', 'tlk', 'tlnd', 'tlp', 'tlra', 'tlrd', 'tlys', 'tm', 'tmhc', 'tmk', 'tmk_b', 'tmk_c', 'tmo', 'tmp', 'tmq', 'tmst', 'tmus', 'tmusp', 'tnav', 'tnc', 'tndm', 'tnet', 'tnh', 'tnk', 'tnp', 'tnp_b', 'tnp_c', 'tnp_d', 'tnp_e', 'tntr', 'tnxp', 'toca', 'tol', 'too', 'too_a', 'too_b', 'tops', 'torm', 'tot', 'tour', 'town', 'towr', 'tpb', 'tpc', 'tpge-u', 'tpge-ws', 'tpge', 'tpgh-u', 'tpgh-ws', 'tpgh', 'tph', 'tphs', 'tpic', 'tpiv', 'tpl', 'tpor', 'tpr', 'tpre', 'tpvg', 'tpvy', 'tpx', 'tpyp', 'tpz', 'tr', 'trc', 'trcb', 'trch', 'trco', 'trcr', 'trcrw', 'trec', 'tree', 'trex', 'trgp', 'trhc', 'tri', 'trib', 'tril', 'trip', 'trk', 'trmb', 'trmk', 'trmt', 'trn', 'trnc', 'trno', 'trns', 'trov', 'trow', 'trox', 'trp', 'trpx', 'trq', 'trs', 'trst', 'trt', 'trtn', 'trtx', 'tru', 'true', 'trup', 'trv', 'trvg', 'trvn', 'trx', 'trxc', 'ts', 'tsbk', 'tsc', 'tsco', 'tse', 'tsem', 'tsg', 'tsi', 'tsla', 'tslf', 'tslx', 'tsm', 'tsn', 'tsq', 'tsri', 'tsro', 'tss', 'tst', 'tsu', 'ttac', 'ttai', 'ttc', 'ttd', 'ttec', 'ttek', 'ttf', 'ttgt', 'tti', 'ttm', 'ttmi', 'ttnp', 'ttoo', 'ttp', 'ttph', 'tts', 'ttwo', 'tu', 'tues', 'tup', 'turn', 'tusk', 'tv', 'tvc', 'tve', 'tvpt', 'tvty', 'twi', 'twin', 'twlo', 'twmc', 'twn', 'twnk', 'twnkw', 'two', 'two_a', 'two_b', 'twou', 'twow', 'twtr', 'twx', 'tx', 'txmd', 'txn', 'txrh', 'txt', 'ty', 'ty_', 'tyg', 'tyht', 'tyl', 'tyme', 'type', 'tzoo', 'ua', 'uaa', 'ual', 'uamy', 'uan', 'uba', 'ubcp', 'ubfo', 'ubio', 'ubnk', 'ubnt', 'uboh', 'ubp', 'ubp_f-cl', 'ubp_g', 'ubp_h', 'ubrt', 'ubs', 'ubsh', 'ubsi', 'ucba', 'ucbi', 'ucfc', 'uctt', 'udbi', 'udr', 'ue', 'uec', 'ueic', 'ueps', 'uevm', 'ufab', 'ufcs', 'ufi', 'ufpi', 'ufpt', 'ufs', 'ug', 'ugi', 'ugp', 'uhal', 'uhs', 'uht', 'uihc', 'uis', 'uitb', 'uivm', 'ul', 'ulbi', 'ulh', 'ulta', 'ulti', 'ulvm', 'umbf', 'umc', 'umh', 'umh_b', 'umh_c', 'umpq', 'un', 'unam', 'unb', 'unf', 'unfi', 'unh', 'unit', 'unm', 'unp', 'unt', 'unty', 'unvr', 'uone', 'uonek', 'upl', 'upld', 'ups', 'uqm', 'urbn', 'urg', 'urgn', 'uri', 'usa', 'usac', 'usak', 'usap', 'usas', 'usat', 'usatp', 'usau', 'usb', 'usb_a', 'usb_h', 'usb_m', 'usb_o', 'uscr', 'usdp', 'useg', 'useq', 'usfd', 'usg', 'ushy', 'uslb', 'uslm', 'usm', 'usmc', 'usmf', 'usna', 'usod', 'usoi', 'usou', 'usph', 'usrt', 'ustb', 'usvm', 'utes', 'utf', 'utg', 'uthr', 'uti', 'utl', 'utlf', 'utmd', 'utsi', 'utsl', 'utx', 'uuu', 'uuuu-ws', 'uuuu', 'uve', 'uvsp', 'uvv', 'uwn', 'uwt', 'uza', 'uzb', 'uzc', 'v', 'vac', 'vale-p', 'vale', 'valu', 'valx', 'vamo', 'var', 'vbf', 'vbfc', 'vbiv', 'vblt', 'vbnd', 'vbtx', 'vc', 'vcel', 'vcf', 'vco', 'vcra', 'vcv', 'vcyt', 'vdsi', 'vdth', 'veac', 'veacu', 'veacw', 'vec', 'veco', 'vedl', 'veev', 'veon', 'ver', 'ver_f', 'veri', 'veru', 'vesh', 'vet', 'vfc', 'vfl', 'vg', 'vgfo', 'vgi', 'vgm', 'vgr', 'vgz', 'vhc', 'vhi', 'via', 'viab', 'viav', 'vicl', 'vicr', 'vigi', 'vii', 'vips', 'virc', 'virt', 'visi', 'viv', 'vive', 'vivo', 'vjet', 'vki', 'vkq', 'vktx', 'vktxw', 'vlgea', 'vlo', 'vlp', 'vlrs', 'vlrx', 'vlt', 'vly-ws', 'vly', 'vly_a', 'vly_b', 'vmax', 'vmc', 'vmi', 'vmin', 'vmm', 'vmo', 'vmot', 'vmw', 'vnce', 'vnda', 'vnet', 'vnla', 'vno', 'vno_g', 'vno_i', 'vno_k', 'vno_l', 'vnom', 'vnrx', 'vntr', 'vntv', 'voc', 'vod', 'voxx', 'voya', 'vpg', 'vpv', 'vr', 'vr_a', 'vr_b', 'vra', 'vray', 'vrex', 'vrig', 'vrml', 'vrna', 'vrns', 'vrnt', 'vrs', 'vrsk', 'vrsn', 'vrts', 'vrtsp', 'vrtu', 'vrtv', 'vrtx', 'vrx', 'vsar', 'vsat', 'vsda', 'vsec', 'vsh', 'vsi', 'vslr', 'vsm', 'vsmv', 'vst', 'vstm', 'vsto', 'vta', 'vtc', 'vteb', 'vtgn', 'vtl', 'vtn', 'vtnr', 'vtr', 'vtrb', 'vtvt', 'vuzi', 'vvc', 'vvi', 'vvpr', 'vvr', 'vvus', 'vvv', 'vwr', 'vygr', 'vymi', 'vz', 'vza', 'w', 'waas', 'wab', 'wabc', 'wac', 'wafd', 'wafdw', 'wage', 'wair', 'wal', 'wala', 'wash', 'wat', 'watt', 'wayn', 'wb', 'wba', 'wbai', 'wbbw', 'wbc', 'wbia', 'wbib', 'wbic', 'wbid', 'wbie', 'wbif', 'wbig', 'wbih', 'wbii', 'wbil', 'wbir', 'wbiy', 'wbk', 'wbkc', 'wbs', 'wbs_e', 'wbt', 'wcc', 'wcfb', 'wcg', 'wcn', 'wd', 'wday', 'wdc', 'wdfc', 'wdr', 'wdrw', 'wea', 'wear', 'web', 'webk', 'wec', 'wen', 'wern', 'wes', 'wetf', 'wex', 'wexp', 'weys', 'wf', 'wfbi', 'wfc-ws', 'wfc', 'wfc_j', 'wfc_l', 'wfc_n', 'wfc_o', 'wfc_p', 'wfc_q', 'wfc_r', 'wfc_t', 'wfc_v', 'wfc_w', 'wfc_x', 'wfc_y', 'wfe_a', 'wfhy', 'wfig', 'wft', 'wg', 'wgl', 'wgo', 'wgp', 'whf', 'whfbl', 'whg', 'whlm', 'whlr', 'whlrd', 'whlrp', 'whlrw', 'whr', 'wia', 'wifi', 'wilc', 'win', 'wina', 'wing', 'wins', 'wire', 'wit', 'wiw', 'wix', 'wk', 'wkhs', 'wlb', 'wldn', 'wlfc', 'wlh', 'wlk', 'wlkp', 'wll', 'wltw', 'wm', 'wmb', 'wmc', 'wmgi', 'wmgiz', 'wmih', 'wmk', 'wmlp', 'wms', 'wmt', 'wnc', 'wneb', 'wnrl', 'wns', 'wor', 'wow', 'wpc', 'wpcs', 'wpg', 'wpg_h', 'wpg_i', 'wpm', 'wppgy', 'wprt', 'wpx', 'wpxp', 'wpz', 'wr', 'wrb', 'wrb_b', 'wrb_c', 'wrb_d', 'wrd', 'wre', 'wri', 'wrk', 'wrld', 'wrls', 'wrlsr', 'wrlsu', 'wrlsw', 'wrn', 'wsbc', 'wsbf', 'wsci', 'wsfs', 'wsky', 'wsm', 'wso-b', 'wso', 'wsr', 'wst', 'wstg', 'wstl', 'wtba', 'wtfc', 'wtfcm', 'wtfcw', 'wti', 'wtid', 'wtiu', 'wtm', 'wtr', 'wtrx', 'wts', 'wtt', 'wttr', 'wtw', 'wu', 'wuba', 'wusa', 'wve', 'wvfc', 'wvvi', 'wvvip', 'wwd', 'wwe', 'wwr', 'www', 'wy', 'wyde', 'wyig', 'wyigu', 'wyigw', 'wyn', 'wynn', 'wyy', 'x', 'xbio', 'xbit', 'xbks', 'xcem', 'xco', 'xcra', 'xec', 'xel', 'xela', 'xelb', 'xene', 'xent', 'xflt', 'xgti', 'xgtiw', 'xhr', 'xin', 'xina', 'xitk', 'xivh', 'xl', 'xlnx', 'xlre', 'xlrn', 'xmx', 'xncr', 'xnet', 'xntk', 'xny', 'xog', 'xom', 'xoma', 'xon', 'xone', 'xoxo', 'xper', 'xpl', 'xplr', 'xpo', 'xray', 'xrf', 'xrm', 'xrx', 'xshd', 'xshq', 'xth', 'xtlb', 'xtnt', 'xusa', 'xweb', 'xxii', 'xyl', 'y', 'yeco', 'yelp', 'yerr', 'yesr', 'yext', 'yge', 'ygyi', 'yin', 'yld', 'ylde', 'yndx', 'yoga', 'yorw', 'ypf', 'yrcw', 'yrd', 'yten', 'ytra', 'yum', 'yuma', 'yumc', 'yume', 'yy', 'z', 'zagg', 'zais', 'zayo', 'zb_a', 'zb_g', 'zb_h', 'zbh', 'zbio', 'zbk', 'zbra', 'zbzx', 'zdge', 'zeal', 'zen', 'zeus', 'zf', 'zfgn', 'zg', 'zgnx', 'zion', 'zionw', 'zionz', 'ziop', 'zixi', 'zjzzt', 'zkin', 'zlab', 'zn', 'znga', 'znh', 'zoes', 'zsan', 'zto', 'ztr', 'zts', 'zumz', 'zvv', 'zx', 'zyme', 'zyne'])"
     ]
    }
   ],
   "source": [
    "stock_dict_historic=convert_stock_from_zip(bucket_name=\"stock.etl\", key=\"raw-historic-data/stockpricing.zip\")\n",
    "stock_dict_historic.keys()"
   ]
  },
  {
   "cell_type": "code",
   "execution_count": 15,
   "metadata": {},
   "outputs": [
    {
     "data": {
      "application/vnd.jupyter.widget-view+json": {
       "model_id": "bbc55e519021455f8514fca106fa1357",
       "version_major": 2,
       "version_minor": 0
      },
      "text/plain": [
       "VBox()"
      ]
     },
     "metadata": {},
     "output_type": "display_data"
    },
    {
     "data": {
      "application/vnd.jupyter.widget-view+json": {
       "model_id": "",
       "version_major": 2,
       "version_minor": 0
      },
      "text/plain": [
       "FloatProgress(value=0.0, bar_style='info', description='Progress:', layout=Layout(height='25px', width='50%'),…"
      ]
     },
     "metadata": {},
     "output_type": "display_data"
    },
    {
     "name": "stdout",
     "output_type": "stream",
     "text": [
      "7163"
     ]
    }
   ],
   "source": [
    "# number of stocks\n",
    "len(stock_dict_historic.keys()) "
   ]
  },
  {
   "cell_type": "markdown",
   "metadata": {},
   "source": [
    "Here use APPLE.inc stock \"AAPL\" as an exmple to show the dataframe structure. "
   ]
  },
  {
   "cell_type": "code",
   "execution_count": 22,
   "metadata": {},
   "outputs": [
    {
     "data": {
      "application/vnd.jupyter.widget-view+json": {
       "model_id": "c573f7299bbd422890207d4b4fb8f489",
       "version_major": 2,
       "version_minor": 0
      },
      "text/plain": [
       "VBox()"
      ]
     },
     "metadata": {},
     "output_type": "display_data"
    },
    {
     "data": {
      "application/vnd.jupyter.widget-view+json": {
       "model_id": "",
       "version_major": 2,
       "version_minor": 0
      },
      "text/plain": [
       "FloatProgress(value=0.0, bar_style='info', description='Progress:', layout=Layout(height='25px', width='50%'),…"
      ]
     },
     "metadata": {},
     "output_type": "display_data"
    },
    {
     "name": "stdout",
     "output_type": "stream",
     "text": [
      "            Date       Open       High        Low      Close    Volume  OpenInt\n",
      "0     1984-09-07    0.42388    0.42902    0.41874    0.42388  23220030        0\n",
      "1     1984-09-10    0.42388    0.42516    0.41366    0.42134  18022532        0\n",
      "2     1984-09-11    0.42516    0.43668    0.42516    0.42902  42498199        0\n",
      "3     1984-09-12    0.42902    0.43157    0.41618    0.41618  37125801        0\n",
      "4     1984-09-13    0.43927    0.44052    0.43927    0.43927  57822062        0\n",
      "...          ...        ...        ...        ...        ...       ...      ...\n",
      "8359  2017-11-06  171.75000  174.36000  171.10000  173.63000  34901241        0\n",
      "8360  2017-11-07  173.29000  174.51000  173.29000  174.18000  24424877        0\n",
      "8361  2017-11-08  174.03000  175.61000  173.71000  175.61000  24451166        0\n",
      "8362  2017-11-09  174.48000  175.46000  172.52000  175.25000  29533086        0\n",
      "8363  2017-11-10  175.11000  175.38000  174.27000  174.67000  25130494        0\n",
      "\n",
      "[8364 rows x 7 columns]"
     ]
    }
   ],
   "source": [
    "#Example of a stock table \n",
    "stock_dict_historic.get('aapl')"
   ]
  },
  {
   "cell_type": "markdown",
   "metadata": {},
   "source": [
    "# Session 3 Data Transformation and process"
   ]
  },
  {
   "cell_type": "markdown",
   "metadata": {},
   "source": [
    "In this step, I will process and combine news, company info and stock pricing data. The reason to combine them to a single dataframe is to make is easier for training machine learning models. The historic data can be split into training and test datasets, using the combined table. Since here each stock are evaluated separatedly, each stock has an individual table. \n"
   ]
  },
  {
   "cell_type": "markdown",
   "metadata": {},
   "source": [
    "First step is to add a few stock technical indicators, such as bollinger bands, moving average, rate of change. Also calcuated daily return and a binary indicator for stock rise (1) or drop (or stay the same) (0). Missing values are taken care of by forward fill. "
   ]
  },
  {
   "cell_type": "markdown",
   "metadata": {},
   "source": [
    "It needs to be pointed out that the time for data collected of news and stock data are different, some stock data can trace back to 1980s and till 2017, but news data are since 2008 to 2016. Here I use inner join to avoid missing values. Also the moving average generated missing values at first N rows. Since they are at the beginning, was also taken care of by join the tables"
   ]
  },
  {
   "cell_type": "code",
   "execution_count": 81,
   "metadata": {},
   "outputs": [
    {
     "data": {
      "application/vnd.jupyter.widget-view+json": {
       "model_id": "e831d510c9794feba1fd9574b0f42312",
       "version_major": 2,
       "version_minor": 0
      },
      "text/plain": [
       "VBox()"
      ]
     },
     "metadata": {},
     "output_type": "display_data"
    },
    {
     "data": {
      "application/vnd.jupyter.widget-view+json": {
       "model_id": "",
       "version_major": 2,
       "version_minor": 0
      },
      "text/plain": [
       "FloatProgress(value=0.0, bar_style='info', description='Progress:', layout=Layout(height='25px', width='50%'),…"
      ]
     },
     "metadata": {},
     "output_type": "display_data"
    }
   ],
   "source": [
    "import numpy as np\n",
    "# Bollinger Bands\n",
    "# https://www.kaggle.com/selval/analysing-stock-data\n",
    "def get_bbands(df, ndays):\n",
    "    dm = df[['Close']].rolling(ndays).mean()\n",
    "    ds = df[['Close']].rolling(ndays).std()\n",
    "    df['upperBB'] = dm + 2 * ds\n",
    "    df['lowerBB'] = dm - 2 * ds\n",
    "    return df\n",
    "\n",
    "# Simple Moving Average\n",
    "def get_SMA(df, ndays):\n",
    "    df['SMA']=df[['Close']].rolling(ndays).mean()\n",
    "    return df\n",
    "\n",
    "# Expontential Moving Average\n",
    "def get_EMA(df, ndays):\n",
    "    df['EMA'] = df[['Close']].ewm( span = ndays, min_periods = ndays - 1).mean()\n",
    "    return df\n",
    "\n",
    "# Rate of Change\n",
    "def get_ROC(df, ndays):\n",
    "    dn = df[['Close']].diff(ndays)\n",
    "    dd = df[['Close']].shift(ndays)\n",
    "    df['ROC'] = dn/dd\n",
    "    return df"
   ]
  },
  {
   "cell_type": "code",
   "execution_count": 127,
   "metadata": {},
   "outputs": [
    {
     "data": {
      "application/vnd.jupyter.widget-view+json": {
       "model_id": "eddee2c431af4e9eb564232859bc5e36",
       "version_major": 2,
       "version_minor": 0
      },
      "text/plain": [
       "VBox()"
      ]
     },
     "metadata": {},
     "output_type": "display_data"
    },
    {
     "data": {
      "application/vnd.jupyter.widget-view+json": {
       "model_id": "",
       "version_major": 2,
       "version_minor": 0
      },
      "text/plain": [
       "FloatProgress(value=0.0, bar_style='info', description='Progress:', layout=Layout(height='25px', width='50%'),…"
      ]
     },
     "metadata": {},
     "output_type": "display_data"
    }
   ],
   "source": [
    "def data_transformation(company_df, news_df, stock_df, stock_symbol):\n",
    "    # First Keep useful information from stock price tables (Date, close and volume), forward fill missing values. \n",
    "    stock_price_df=stock_df.copy()\n",
    "    stock_price_df.drop(['Open','High','Low', 'OpenInt'], axis=1, inplace=True)\n",
    "    stock_price_df.fillna(method='ffill')\n",
    "    stock_price_df.set_index('Date', inplace=True)\n",
    "    \n",
    "    \n",
    "    # Adding daily return (%), stock_rise (1, 0 if drop), technical indicators \n",
    "    stock_price_df['daily_return']=stock_price_df[['Close']][:-1].values/stock_price_df[['Close']][1:]-1\n",
    "    stock_price_df=get_bbands(stock_price_df, 10)\n",
    "    stock_price_df=get_SMA(stock_price_df, 10)\n",
    "    stock_price_df=get_EMA(stock_price_df, 10)\n",
    "    stock_price_df=get_ROC(stock_price_df, 1)\n",
    "    stock_price_df['stock_rise']=np.where(stock_price_df['daily_return']>0, 1, 0)\n",
    "    \n",
    "    \n",
    "    # Adding company info\n",
    "    company_info_df=company_df.copy()\n",
    "    company_info_df.drop(['bloomberg_unique','margin_initial_ratio','maintenance_ratio','day_trade_ratio', 'list_date', 'default_collar_fraction', 'open', 'high', 'low', 'volume', 'average_volume_2_weeks', 'average_volume', 'high_52_weeks', 'dividend_yield', 'float', 'low_52_weeks', 'market_cap', 'pb_ratio', 'pe_ratio', 'shares_outstanding', 'description'], axis=1, inplace=True)\n",
    "    row=company_info_df.loc[company_info_df['symbol'] == stock_symbol]\n",
    "    if(len(row)>0):\n",
    "        stock_price_df['simple_name']=row['simple_name'].values[0]\n",
    "        stock_price_df['name']=row['name'].values[0]\n",
    "        stock_price_df['country']=row['country'].values[0]\n",
    "        stock_price_df['headquarters_city']=row['headquarters_state'].values[0]\n",
    "        stock_price_df['sector']=row['sector'].values[0]\n",
    "        stock_price_df['industry']=row['industry'].values[0]\n",
    "\n",
    "    # Adding news data\n",
    "    news_df_copy=news_df.copy()\n",
    "    news_df_copy.drop(['Label'], axis=1, inplace=True)\n",
    "    news_df_copy.set_index('Date', inplace=True)\n",
    "    df_merge=pd.merge(stock_price_df, news_df_copy, left_index=True, right_index=True)\n",
    "    \n",
    "    return df_merge"
   ]
  },
  {
   "cell_type": "markdown",
   "metadata": {},
   "source": [
    "Also, use apple as an example to show the table after transformation and joined"
   ]
  },
  {
   "cell_type": "code",
   "execution_count": 128,
   "metadata": {},
   "outputs": [
    {
     "data": {
      "application/vnd.jupyter.widget-view+json": {
       "model_id": "65ca17b34b83479596270a62794f4145",
       "version_major": 2,
       "version_minor": 0
      },
      "text/plain": [
       "VBox()"
      ]
     },
     "metadata": {},
     "output_type": "display_data"
    },
    {
     "data": {
      "application/vnd.jupyter.widget-view+json": {
       "model_id": "",
       "version_major": 2,
       "version_minor": 0
      },
      "text/plain": [
       "FloatProgress(value=0.0, bar_style='info', description='Progress:', layout=Layout(height='25px', width='50%'),…"
      ]
     },
     "metadata": {},
     "output_type": "display_data"
    }
   ],
   "source": [
    "df=data_transformation(df_company_info, df_news_historic, stock_dict_historic.get('aapl'), 'AAPL')"
   ]
  },
  {
   "cell_type": "code",
   "execution_count": 132,
   "metadata": {},
   "outputs": [
    {
     "data": {
      "application/vnd.jupyter.widget-view+json": {
       "model_id": "d925c47e32e94c048bab146cbccca358",
       "version_major": 2,
       "version_minor": 0
      },
      "text/plain": [
       "VBox()"
      ]
     },
     "metadata": {},
     "output_type": "display_data"
    },
    {
     "data": {
      "application/vnd.jupyter.widget-view+json": {
       "model_id": "",
       "version_major": 2,
       "version_minor": 0
      },
      "text/plain": [
       "FloatProgress(value=0.0, bar_style='info', description='Progress:', layout=Layout(height='25px', width='50%'),…"
      ]
     },
     "metadata": {},
     "output_type": "display_data"
    },
    {
     "name": "stdout",
     "output_type": "stream",
     "text": [
      "             Close     Volume  daily_return    upperBB    lowerBB      SMA  \\\n",
      "Date                                                                         \n",
      "2008-08-08  21.711  199068558     -0.035143  21.730967  19.201433  20.4662   \n",
      "2008-08-11  22.227  248378005     -0.023215  22.291594  19.131606  20.7116   \n",
      "2008-08-12  22.633  233132531     -0.017938  22.886399  19.040001  20.9632   \n",
      "2008-08-13  22.962  234899860     -0.014328  23.468691  18.955509  21.2121   \n",
      "2008-08-14  22.963  198233593     -0.000044  23.886700  19.058900  21.4728   \n",
      "\n",
      "                  EMA       ROC  stock_rise simple_name  \\\n",
      "Date                                                      \n",
      "2008-08-08  20.813671  0.036424           0       Apple   \n",
      "2008-08-11  21.070640  0.023767           0       Apple   \n",
      "2008-08-12  21.354706  0.018266           0       Apple   \n",
      "2008-08-13  21.646941  0.014536           0       Apple   \n",
      "2008-08-14  21.886224  0.000044           0       Apple   \n",
      "\n",
      "                               name country headquarters_city  \\\n",
      "Date                                                            \n",
      "2008-08-08  Apple Inc. Common Stock      US        California   \n",
      "2008-08-11  Apple Inc. Common Stock      US        California   \n",
      "2008-08-12  Apple Inc. Common Stock      US        California   \n",
      "2008-08-13  Apple Inc. Common Stock      US        California   \n",
      "2008-08-14  Apple Inc. Common Stock      US        California   \n",
      "\n",
      "                           sector                      industry  \\\n",
      "Date                                                              \n",
      "2008-08-08  Electronic Technology  Telecommunications Equipment   \n",
      "2008-08-11  Electronic Technology  Telecommunications Equipment   \n",
      "2008-08-12  Electronic Technology  Telecommunications Equipment   \n",
      "2008-08-13  Electronic Technology  Telecommunications Equipment   \n",
      "2008-08-14  Electronic Technology  Telecommunications Equipment   \n",
      "\n",
      "                                                         Top1  \\\n",
      "Date                                                            \n",
      "2008-08-08  b\"Georgia 'downs two Russian warplanes' as cou...   \n",
      "2008-08-11  b'Why wont America and Nato help us? If they w...   \n",
      "2008-08-12  b'Remember that adorable 9-year-old who sang a...   \n",
      "2008-08-13  b' U.S. refuses Israel weapons to attack Iran:...   \n",
      "2008-08-14  b'All the experts admit that we should legalis...   \n",
      "\n",
      "                                                         Top2  \\\n",
      "Date                                                            \n",
      "2008-08-08            b'BREAKING: Musharraf to be impeached.'   \n",
      "2008-08-11        b'Bush puts foot down on Georgian conflict'   \n",
      "2008-08-12                 b\"Russia 'ends Georgia operation'\"   \n",
      "2008-08-13  b\"When the president ordered to attack Tskhinv...   \n",
      "2008-08-14  b'War in South Osetia - 89 pictures made by a ...   \n",
      "\n",
      "                                                         Top3  \\\n",
      "Date                                                            \n",
      "2008-08-08  b'Russia Today: Columns of troops roll into So...   \n",
      "2008-08-11  b\"Jewish Georgian minister: Thanks to Israeli ...   \n",
      "2008-08-12  b'\"If we had no sexual harassment we would hav...   \n",
      "2008-08-13  b' Israel clears troops who killed Reuters cam...   \n",
      "2008-08-14  b'Swedish wrestler Ara Abrahamian throws away ...   \n",
      "\n",
      "                                                         Top4  \\\n",
      "Date                                                            \n",
      "2008-08-08  b'Russian tanks are moving towards the capital...   \n",
      "2008-08-11  b'Georgian army flees in disarray as Russians ...   \n",
      "2008-08-12  b\"Al-Qa'eda is losing support in Iraq because ...   \n",
      "2008-08-13  b'Britain\\'s policy of being tough on drugs is...   \n",
      "2008-08-14  b'Russia exaggerated the death toll in South O...   \n",
      "\n",
      "                                                         Top5  \\\n",
      "Date                                                            \n",
      "2008-08-08  b\"Afghan children raped with 'impunity,' U.N. ...   \n",
      "2008-08-11      b\"Olympic opening ceremony fireworks 'faked'\"   \n",
      "2008-08-12  b'Ceasefire in Georgia: Putin Outmaneuvers the...   \n",
      "2008-08-13  b'Body of 14 year old found in trunk; Latest (...   \n",
      "2008-08-14  b'Missile That Killed 9 Inside Pakistan May Ha...   \n",
      "\n",
      "                                                         Top6  \\\n",
      "Date                                                            \n",
      "2008-08-08  b'150 Russian tanks have entered South Ossetia...   \n",
      "2008-08-11  b'What were the Mossad with fraudulent New Zea...   \n",
      "2008-08-12  b'Why Microsoft and Intel tried to kill the XO...   \n",
      "2008-08-13  b'China has moved 10 *million* quake survivors...   \n",
      "2008-08-14  b\"Rushdie Condemns Random House's Refusal to P...   \n",
      "\n",
      "                                                         Top7  \\\n",
      "Date                                                            \n",
      "2008-08-08  b\"Breaking: Georgia invades South Ossetia, Rus...   \n",
      "2008-08-11  b'Russia angered by Israeli military sale to G...   \n",
      "2008-08-12  b'Stratfor: The Russo-Georgian War and the Bal...   \n",
      "2008-08-13  b\"Bush announces Operation Get All Up In Russi...   \n",
      "2008-08-14  b'Poland and US agree to missle defense deal. ...   \n",
      "\n",
      "                                                         Top8  \\\n",
      "Date                                                            \n",
      "2008-08-08  b\"The 'enemy combatent' trials are nothing but...   \n",
      "2008-08-11  b'An American citizen living in S.Ossetia blam...   \n",
      "2008-08-12  b\"I'm Trying to Get a Sense of This Whole Geor...   \n",
      "2008-08-13             b'Russian forces sink Georgian ships '   \n",
      "2008-08-14  b'Will the Russians conquer Tblisi? Bet on it,...   \n",
      "\n",
      "                                                         Top9  \\\n",
      "Date                                                            \n",
      "2008-08-08  b'Georgian troops retreat from S. Osettain cap...   \n",
      "2008-08-11  b'Welcome To World War IV! Now In High Definit...   \n",
      "2008-08-12  b\"The US military was surprised by the timing ...   \n",
      "2008-08-13  b\"The commander of a Navy air reconnaissance s...   \n",
      "2008-08-14  b'Russia exaggerating South Ossetian death tol...   \n",
      "\n",
      "                                                        Top10  \\\n",
      "Date                                                            \n",
      "2008-08-08  b'Did the U.S. Prep Georgia for War with Russia?'   \n",
      "2008-08-11  b\"Georgia's move, a mistake of monumental prop...   \n",
      "2008-08-12    b'U.S. Beats War Drum as Iran Dumps the Dollar'   \n",
      "2008-08-13  b\"92% of CNN readers: Russia's actions in Geor...   \n",
      "2008-08-14  b' Musharraf expected to resign rather than fa...   \n",
      "\n",
      "                                                        Top11  \\\n",
      "Date                                                            \n",
      "2008-08-08  b'Rice Gives Green Light for Israel to Attack ...   \n",
      "2008-08-11  b'Russia presses deeper into Georgia; U.S. say...   \n",
      "2008-08-12  b'Gorbachev: \"Georgian military attacked the S...   \n",
      "2008-08-13  b'USA to send fleet into Black Sea to help Geo...   \n",
      "2008-08-14  b'Moscow Made Plans Months Ago to Invade Georgia'   \n",
      "\n",
      "                                                        Top12  \\\n",
      "Date                                                            \n",
      "2008-08-08  b'Announcing:Class Action Lawsuit on Behalf of...   \n",
      "2008-08-11  b'Abhinav Bindra wins first ever Individual Ol...   \n",
      "2008-08-12  b'CNN use footage of Tskhinvali ruins to cover...   \n",
      "2008-08-13  b\"US warns against Israeli plan to strike agai...   \n",
      "2008-08-14       b'Why Russias response to Georgia was right'   \n",
      "\n",
      "                                                        Top13  \\\n",
      "Date                                                            \n",
      "2008-08-08  b\"So---Russia and Georgia are at war and the N...   \n",
      "2008-08-11  b' U.S. ship heads for Arctic to define territ...   \n",
      "2008-08-12  b'Beginning a war as the Olympics were opening...   \n",
      "2008-08-13  b\"In an intriguing cyberalliance, two Estonian...   \n",
      "2008-08-14  b'Nigeria has handed over the potentially oil-...   \n",
      "\n",
      "                                                        Top14  \\\n",
      "Date                                                            \n",
      "2008-08-08  b\"China tells Bush to stay out of other countr...   \n",
      "2008-08-11  b'Drivers in a Jerusalem taxi station threaten...   \n",
      "2008-08-12  b'55 pyramids as large as the Luxor stacked in...   \n",
      "2008-08-13  b'The CNN Effect: Georgia Schools Russia in In...   \n",
      "2008-08-14  b'The US and Poland have agreed a preliminary ...   \n",
      "\n",
      "                                                        Top15  \\\n",
      "Date                                                            \n",
      "2008-08-08                  b'Did World War III start today?'   \n",
      "2008-08-11  b'The French Team is Stunned by Phelps and the...   \n",
      "2008-08-12            b'The 11 Top Party Cities in the World'   \n",
      "2008-08-13       b'Why Russias response to Georgia was right'   \n",
      "2008-08-14  b'Russia apparently is sabotaging infrastructu...   \n",
      "\n",
      "                                                        Top16  \\\n",
      "Date                                                            \n",
      "2008-08-08  b'Georgia Invades South Ossetia - if Russia ge...   \n",
      "2008-08-11  b'Israel and the US behind the Georgian aggres...   \n",
      "2008-08-12  b'U.S. troops still in Georgia (did you know t...   \n",
      "2008-08-13                      b'Elephants extinct by 2020?'   \n",
      "2008-08-14  b'Bank analyst forecast Georgian crisis 2 days...   \n",
      "\n",
      "                                                        Top17  \\\n",
      "Date                                                            \n",
      "2008-08-08                b'Al-Qaeda Faces Islamist Backlash'   \n",
      "2008-08-11  b'\"Do not believe TV, neither Russian nor Geor...   \n",
      "2008-08-12       b'Why Russias response to Georgia was right'   \n",
      "2008-08-13  b'US humanitarian missions soon in Georgia - i...   \n",
      "2008-08-14  b\"Georgia confict could set back Russia's US r...   \n",
      "\n",
      "                                                        Top18  \\\n",
      "Date                                                            \n",
      "2008-08-08  b'Condoleezza Rice: \"The US would not act to p...   \n",
      "2008-08-11  b'Riots are still going on in Montreal (Canada...   \n",
      "2008-08-12  b'Gorbachev accuses U.S. of making a \"serious ...   \n",
      "2008-08-13             b\"Georgia's DDOS came from US sources\"   \n",
      "2008-08-14  b'War in the Caucasus is as much the product o...   \n",
      "\n",
      "                                                        Top19  \\\n",
      "Date                                                            \n",
      "2008-08-08  b'This is a busy day:  The European Union has ...   \n",
      "2008-08-11    b'China to overtake US as largest manufacturer'   \n",
      "2008-08-12         b'Russia, Georgia, and NATO: Cold War Two'   \n",
      "2008-08-13  b'Russian convoy heads into Georgia, violating...   \n",
      "2008-08-14  b'\"Non-media\" photos of South Ossetia/Georgia ...   \n",
      "\n",
      "                                                        Top20  \\\n",
      "Date                                                            \n",
      "2008-08-08  b\"Georgia will withdraw 1,000 soldiers from Ir...   \n",
      "2008-08-11                     b'War in South Ossetia [PICS]'   \n",
      "2008-08-12  b'Remember that adorable 62-year-old who led y...   \n",
      "2008-08-13  b'Israeli defence minister: US against strike ...   \n",
      "2008-08-14  b'Georgian TV reporter shot by Russian sniper ...   \n",
      "\n",
      "                                                        Top21  \\\n",
      "Date                                                            \n",
      "2008-08-08  b'Why the Pentagon Thinks Attacking Iran is a ...   \n",
      "2008-08-11  b'Israeli Physicians Group Condemns State Tort...   \n",
      "2008-08-12          b'War in Georgia: The Israeli connection'   \n",
      "2008-08-13                     b'Gorbachev: We Had No Choice'   \n",
      "2008-08-14  b'Saudi Arabia: Mother moves to block child ma...   \n",
      "\n",
      "                                                        Top22  \\\n",
      "Date                                                            \n",
      "2008-08-08  b'Caucasus in crisis: Georgia invades South Os...   \n",
      "2008-08-11  b' Russia has just beaten the United States ov...   \n",
      "2008-08-12  b'All signs point to the US encouraging Georgi...   \n",
      "2008-08-13  b'Witness: Russian forces head towards Tbilisi...   \n",
      "2008-08-14   b'Taliban wages war on humanitarian aid workers'   \n",
      "\n",
      "                                                        Top23  \\\n",
      "Date                                                            \n",
      "2008-08-08  b'Indian shoe manufactory  - And again in a se...   \n",
      "2008-08-11  b'Perhaps *the* question about the Georgia - R...   \n",
      "2008-08-12  b'Christopher King argues that the US and NATO...   \n",
      "2008-08-13  b' Quarter of Russians blame U.S. for conflict...   \n",
      "2008-08-14  b'Russia: World  \"can forget about\" Georgia\\'s...   \n",
      "\n",
      "                                                        Top24  \\\n",
      "Date                                                            \n",
      "2008-08-08  b'Visitors Suffering from Mental Illnesses Ban...   \n",
      "2008-08-11                 b'Russia is so much better at war'   \n",
      "2008-08-12                        b'America: The New Mexico?'   \n",
      "2008-08-13  b'Georgian president  says US military will ta...   \n",
      "2008-08-14  b'Darfur rebels accuse Sudan of mounting major...   \n",
      "\n",
      "                                                        Top25  \n",
      "Date                                                           \n",
      "2008-08-08           b\"No Help for Mexico's Kidnapping Surge\"  \n",
      "2008-08-11  b\"So this is what it's come to: trading sex fo...  \n",
      "2008-08-12  b\"BBC NEWS | Asia-Pacific | Extinction 'by man...  \n",
      "2008-08-13  b'2006: Nobel laureate Aleksander Solzhenitsyn...  \n",
      "2008-08-14  b'Philippines : Peace Advocate say Muslims nee..."
     ]
    }
   ],
   "source": [
    "pd.set_option('max_columns', None)\n",
    "df.head(5)"
   ]
  },
  {
   "cell_type": "code",
   "execution_count": 133,
   "metadata": {},
   "outputs": [
    {
     "data": {
      "application/vnd.jupyter.widget-view+json": {
       "model_id": "46884d3dcec34667a210576206e4f960",
       "version_major": 2,
       "version_minor": 0
      },
      "text/plain": [
       "VBox()"
      ]
     },
     "metadata": {},
     "output_type": "display_data"
    },
    {
     "data": {
      "application/vnd.jupyter.widget-view+json": {
       "model_id": "",
       "version_major": 2,
       "version_minor": 0
      },
      "text/plain": [
       "FloatProgress(value=0.0, bar_style='info', description='Progress:', layout=Layout(height='25px', width='50%'),…"
      ]
     },
     "metadata": {},
     "output_type": "display_data"
    },
    {
     "name": "stdout",
     "output_type": "stream",
     "text": [
      "             Close    Volume  daily_return    upperBB    lowerBB      SMA  \\\n",
      "Date                                                                        \n",
      "2016-06-27  89.635  45491756      0.014782  96.485221  89.639179  93.0622   \n",
      "2016-06-28  91.145  39565203     -0.016567  96.031235  89.339365  92.6853   \n",
      "2016-06-29  91.934  32943084     -0.008582  95.500221  89.336779  92.4185   \n",
      "2016-06-30  93.102  34702639     -0.012545  94.794376  89.663024  92.2287   \n",
      "2016-07-01  93.384  25603482     -0.003020  94.928414  89.637986  92.2832   \n",
      "\n",
      "                  EMA       ROC  stock_rise simple_name  \\\n",
      "Date                                                      \n",
      "2016-06-27  92.745937 -0.014567           1       Apple   \n",
      "2016-06-28  92.454857  0.016846           0       Apple   \n",
      "2016-06-29  92.360156  0.008657           0       Apple   \n",
      "2016-06-30  92.495037  0.012705           0       Apple   \n",
      "2016-07-01  92.656666  0.003029           0       Apple   \n",
      "\n",
      "                               name country headquarters_city  \\\n",
      "Date                                                            \n",
      "2016-06-27  Apple Inc. Common Stock      US        California   \n",
      "2016-06-28  Apple Inc. Common Stock      US        California   \n",
      "2016-06-29  Apple Inc. Common Stock      US        California   \n",
      "2016-06-30  Apple Inc. Common Stock      US        California   \n",
      "2016-07-01  Apple Inc. Common Stock      US        California   \n",
      "\n",
      "                           sector                      industry  \\\n",
      "Date                                                              \n",
      "2016-06-27  Electronic Technology  Telecommunications Equipment   \n",
      "2016-06-28  Electronic Technology  Telecommunications Equipment   \n",
      "2016-06-29  Electronic Technology  Telecommunications Equipment   \n",
      "2016-06-30  Electronic Technology  Telecommunications Equipment   \n",
      "2016-07-01  Electronic Technology  Telecommunications Equipment   \n",
      "\n",
      "                                                         Top1  \\\n",
      "Date                                                            \n",
      "2016-06-27  Barclays and RBS shares suspended from trading...   \n",
      "2016-06-28  2,500 Scientists To Australia: If You Want To ...   \n",
      "2016-06-29                   Explosion At Airport In Istanbul   \n",
      "2016-06-30  Jamaica proposes marijuana dispensers for tour...   \n",
      "2016-07-01  A 117-year-old woman in Mexico City finally re...   \n",
      "\n",
      "                                                         Top2  \\\n",
      "Date                                                            \n",
      "2016-06-27  Pope says Church should ask forgiveness from g...   \n",
      "2016-06-28  The personal details of 112,000 French police ...   \n",
      "2016-06-29  Yemeni former president: Terrorism is the offs...   \n",
      "2016-06-30  Stephen Hawking says pollution and 'stupidity'...   \n",
      "2016-07-01   IMF chief backs Athens as permanent Olympic host   \n",
      "\n",
      "                                                         Top3  \\\n",
      "Date                                                            \n",
      "2016-06-27  Poland 'shocked' by xenophobic abuse of Poles ...   \n",
      "2016-06-28  S&amp;P cuts United Kingdom sovereign credit r...   \n",
      "2016-06-29  UK must accept freedom of movement to access E...   \n",
      "2016-06-30  Boris Johnson says he will not run for Tory pa...   \n",
      "2016-07-01  The president of France says if Brexit won, so...   \n",
      "\n",
      "                                                         Top4  \\\n",
      "Date                                                            \n",
      "2016-06-27  There will be no second referendum, cabinet ag...   \n",
      "2016-06-28                Huge helium deposit found in Africa   \n",
      "2016-06-29  Devastated: scientists too late to captive bre...   \n",
      "2016-06-30  Six gay men in Ivory Coast were abused and for...   \n",
      "2016-07-01  British Man Who Must Give Police 24 Hours' Not...   \n",
      "\n",
      "                                                         Top5  \\\n",
      "Date                                                            \n",
      "2016-06-27      Scotland welcome to join EU, Merkel ally says   \n",
      "2016-06-28  CEO of the South African state broadcaster qui...   \n",
      "2016-06-29  British Labor Party leader Jeremy Corbyn loses...   \n",
      "2016-06-30  Switzerland denies citizenship to Muslim immig...   \n",
      "2016-07-01  100+ Nobel laureates urge Greenpeace to stop o...   \n",
      "\n",
      "                                                         Top6  \\\n",
      "Date                                                            \n",
      "2016-06-27  Sterling dips below Friday's 31-year low amid ...   \n",
      "2016-06-28  Brexit cost investors $2 trillion, the worst o...   \n",
      "2016-06-29  A Muslim Shop in the UK Was Just Firebombed Wh...   \n",
      "2016-06-30  Palestinian terrorist stabs israeli teen girl ...   \n",
      "2016-07-01  Brazil: Huge spike in number of police killing...   \n",
      "\n",
      "                                                         Top7  \\\n",
      "Date                                                            \n",
      "2016-06-27  No negative news about South African President...   \n",
      "2016-06-28  Hong Kong democracy activists call for return ...   \n",
      "2016-06-29  Mexican Authorities Sexually Torture Women in ...   \n",
      "2016-06-30  Puerto Rico will default on $1 billion of debt...   \n",
      "2016-07-01  Austria's highest court annuls presidential el...   \n",
      "\n",
      "                                                         Top8  \\\n",
      "Date                                                            \n",
      "2016-06-27  Surge in Hate Crimes in the U.K. Following U.K...   \n",
      "2016-06-28  Brexit: Iceland president says UK can join 'tr...   \n",
      "2016-06-29            UK shares and pound continue to recover   \n",
      "2016-06-30  Republic of Ireland fans to be awarded medal f...   \n",
      "2016-07-01  Facebook wins privacy case, can track any Belg...   \n",
      "\n",
      "                                                         Top9  \\\n",
      "Date                                                            \n",
      "2016-06-27  Weapons shipped into Jordan by the CIA and Sau...   \n",
      "2016-06-28  UK's Osborne: 'Absolutely' going to have to cu...   \n",
      "2016-06-29  Iceland historian Johannesson wins presidentia...   \n",
      "2016-06-30  Afghan suicide bomber 'kills up to 40' - BBC News   \n",
      "2016-07-01  Switzerland denies Muslim girls citizenship af...   \n",
      "\n",
      "                                                        Top10  \\\n",
      "Date                                                            \n",
      "2016-06-27  Angela Merkel said the U.K. must file exit pap...   \n",
      "2016-06-28  'Do not let Scotland down now' : Scottish MEP ...   \n",
      "2016-06-29  99-Million-Yr-Old Bird Wings Found Encased in ...   \n",
      "2016-06-30  US airstrikes kill at least 250 ISIS fighters ...   \n",
      "2016-07-01  China kills millions of innocent meditators fo...   \n",
      "\n",
      "                                                        Top11  \\\n",
      "Date                                                            \n",
      "2016-06-27  In a birth offering hope to a threatened speci...   \n",
      "2016-06-28  British pound could hit history-making dollar ...   \n",
      "2016-06-29  A chatbot programmed by a British teenager has...   \n",
      "2016-06-30  Turkish Cop Who Took Down Istanbul Gunman Hail...   \n",
      "2016-07-01  France Cracks Down on Factory Farms - A viral ...   \n",
      "\n",
      "                                                        Top12  \\\n",
      "Date                                                            \n",
      "2016-06-27  Sky News Journalist Left Speechless As Leave M...   \n",
      "2016-06-28  Merkel vows to strengthen EU, tells UK no 'che...   \n",
      "2016-06-29  The Philippine president-elect said Monday he ...   \n",
      "2016-06-30  Cannabis compounds could treat Alzheimer's by ...   \n",
      "2016-07-01  Abbas PLO Faction Calls Killer of 13-Year-Old ...   \n",
      "\n",
      "                                                        Top13  \\\n",
      "Date                                                            \n",
      "2016-06-27          Giant panda in Macau gives birth to twins   \n",
      "2016-06-28  \"Ryanair will not deploy new aircraft on route...   \n",
      "2016-06-29  Former Belgian Prime Minister ridicules Nigel ...   \n",
      "2016-06-30  Japan's top court has approved blanket surveil...   \n",
      "2016-07-01  Taiwanese warship accidentally fires missile t...   \n",
      "\n",
      "                                                        Top14  \\\n",
      "Date                                                            \n",
      "2016-06-27  Get out now: EU leader tells Britain it must i...   \n",
      "2016-06-28  People, ever more greedy and stupid, destroy t...   \n",
      "2016-06-29  Brexiteer Nigel Farage To EU: 'You're Not Laug...   \n",
      "2016-06-30   CIA Gave Romania Millions to Host Secret Prisons   \n",
      "2016-07-01  Iran celebrates American Human Rights Week, mo...   \n",
      "\n",
      "                                                        Top15  \\\n",
      "Date                                                            \n",
      "2016-06-27  Sea turtle 'beaten and left for dead' on beach...   \n",
      "2016-06-28  Siemens freezes new UK wind power investment f...   \n",
      "2016-06-29  Islamic State bombings in southern Yemen kill ...   \n",
      "2016-06-30  Groups urge U.N. to suspend Saudi Arabia from ...   \n",
      "2016-07-01  U.N. panel moves to curb bias against L.G.B.T....   \n",
      "\n",
      "                                                        Top16  \\\n",
      "Date                                                            \n",
      "2016-06-27  German lawyers to probe Erdogan over alleged w...   \n",
      "2016-06-28  US, Canada and Mexico pledge 50% of power from...   \n",
      "2016-06-29  Escape Tunnel, Dug by Hand, Is Found at Holoca...   \n",
      "2016-06-30  Googles free wifi at Indian railway stations i...   \n",
      "2016-07-01  The United States has placed Myanmar, Uzbekist...   \n",
      "\n",
      "                                                        Top17  \\\n",
      "Date                                                            \n",
      "2016-06-27  Boris Johnson says the UK will continue to \"in...   \n",
      "2016-06-28  There is increasing evidence that Australia is...   \n",
      "2016-06-29  The land under Beijing is sinking by as much a...   \n",
      "2016-06-30  Mounting evidence suggests 'hobbits' were wipe...   \n",
      "2016-07-01  S&amp;P revises European Union credit rating t...   \n",
      "\n",
      "                                                        Top18  \\\n",
      "Date                                                            \n",
      "2016-06-27  Richard Branson is calling on the UK governmen...   \n",
      "2016-06-28  Richard Branson, the founder of Virgin Group, ...   \n",
      "2016-06-29  Car bomb and Anti-Islamic attack on Mosque in ...   \n",
      "2016-06-30  The men who carried out Tuesday's terror attac...   \n",
      "2016-07-01  India gets $1 billion loan from World Bank for...   \n",
      "\n",
      "                                                        Top19  \\\n",
      "Date                                                            \n",
      "2016-06-27             Turkey 'sorry for downing Russian jet'   \n",
      "2016-06-28  37,000-yr-old skull from Borneo reveals surpri...   \n",
      "2016-06-29  Emaciated lions in Taiz Zoo are trapped in blo...   \n",
      "2016-06-30  Calls to suspend Saudi Arabia from UN Human Ri...   \n",
      "2016-07-01  U.S. sailors detained by Iran spoke too much u...   \n",
      "\n",
      "                                                        Top20  \\\n",
      "Date                                                            \n",
      "2016-06-27  Edward Snowden lawyer vows new push for pardon...   \n",
      "2016-06-28  Palestinians stone Western Wall worshipers; po...   \n",
      "2016-06-29  Rupert Murdoch describes Brexit as 'wonderful'...   \n",
      "2016-06-30  More Than 100 Nobel Laureates Call Out Greenpe...   \n",
      "2016-07-01  Mass fish kill in Vietnam solved as Taiwan ste...   \n",
      "\n",
      "                                                        Top21  \\\n",
      "Date                                                            \n",
      "2016-06-27  Brexit opinion poll reveals majority don't wan...   \n",
      "2016-06-28  Jean-Claude Juncker asks Farage: Why are you h...   \n",
      "2016-06-29       More than 40 killed in Yemen suicide attacks   \n",
      "2016-06-30  British pedophile sentenced to 85 years in US ...   \n",
      "2016-07-01  Philippines president Rodrigo Duterte urges pe...   \n",
      "\n",
      "                                                        Top22  \\\n",
      "Date                                                            \n",
      "2016-06-27  Conservative MP Leave Campaigner: \"The leave c...   \n",
      "2016-06-28  \"Romanians for Remainians\" offering a new home...   \n",
      "2016-06-29  Google Found Disastrous Symantec and Norton Vu...   \n",
      "2016-06-30  US permitted 1,200 offshore fracks in Gulf of ...   \n",
      "2016-07-01  Spain arrests three Pakistanis accused of prom...   \n",
      "\n",
      "                                                        Top23  \\\n",
      "Date                                                            \n",
      "2016-06-27  Economists predict UK recession, further weake...   \n",
      "2016-06-28  Brexit: Gibraltar in talks with Scotland to st...   \n",
      "2016-06-29  Extremist violence on the rise in Germany: Dom...   \n",
      "2016-06-30  We will be swimming in ridicule - French beach...   \n",
      "2016-07-01  Venezuela, where anger over food shortages is ...   \n",
      "\n",
      "                                                        Top24  \\\n",
      "Date                                                            \n",
      "2016-06-27  New EU 'superstate plan by France, Germany: Cr...   \n",
      "2016-06-28                   8 Suicide Bombers Strike Lebanon   \n",
      "2016-06-29  BBC News: Labour MPs pass Corbyn no-confidence...   \n",
      "2016-06-30  UEFA says no minutes of silence for Istanbul v...   \n",
      "2016-07-01  A Hindu temple worker has been killed by three...   \n",
      "\n",
      "                                                        Top25  \n",
      "Date                                                           \n",
      "2016-06-27  Pakistani clerics declare transgender marriage...  \n",
      "2016-06-28  Mexico's security forces routinely use 'sexual...  \n",
      "2016-06-29  Tiny New Zealand town with 'too many jobs' lau...  \n",
      "2016-06-30  Law Enforcement Sources: Gun Used in Paris Ter...  \n",
      "2016-07-01  Ozone layer hole seems to be healing - US &amp..."
     ]
    }
   ],
   "source": [
    "pd.set_option('max_columns', None)\n",
    "df.tail(5)"
   ]
  },
  {
   "cell_type": "markdown",
   "metadata": {},
   "source": [
    "# Session 4 Save processed dataframes back to S3 indivisual Stock folder"
   ]
  },
  {
   "cell_type": "markdown",
   "metadata": {},
   "source": [
    "This step is to save the processed dataframe as files to S3, each with name of the stock symbol. At first, I saved them to csv. But I encountered some issue with Pandas with Python2 not compatible with save to csv method on EC2 machine (though I can download python3, but it messed up airflow). So I ended up save files to json, which also has the benefit of smaller size. Below are two version of the methods."
   ]
  },
  {
   "cell_type": "code",
   "execution_count": null,
   "metadata": {},
   "outputs": [],
   "source": [
    "# save to S3\n",
    "def save_to_s3(df, stock, folder):\n",
    "    df_copy=df.copy()\n",
    "    df_copy.reset_index(inplace=True)\n",
    "    s3 = boto3.resource('s3')\n",
    "    json_data=df_copy.to_json(orient='records')\n",
    "    key=\"{}/{}.json\".format(folder, stock)\n",
    "    s3object = s3.Object('stock.etl', key)\n",
    "    s3object.put(Body=(bytes(json.dumps(json_data).encode('UTF-8'))))"
   ]
  },
  {
   "cell_type": "code",
   "execution_count": 145,
   "metadata": {},
   "outputs": [
    {
     "data": {
      "application/vnd.jupyter.widget-view+json": {
       "model_id": "b046034f2e814edbaa211554666380d0",
       "version_major": 2,
       "version_minor": 0
      },
      "text/plain": [
       "VBox()"
      ]
     },
     "metadata": {},
     "output_type": "display_data"
    },
    {
     "data": {
      "application/vnd.jupyter.widget-view+json": {
       "model_id": "",
       "version_major": 2,
       "version_minor": 0
      },
      "text/plain": [
       "FloatProgress(value=0.0, bar_style='info', description='Progress:', layout=Layout(height='25px', width='50%'),…"
      ]
     },
     "metadata": {},
     "output_type": "display_data"
    }
   ],
   "source": [
    "# save to S3-2\n",
    "import s3fs\n",
    "\n",
    "def save_to_s3_v2(df, stock, folder):\n",
    "    key=\"{}/{}.csv\".format(folder, stock)\n",
    "    df.to_csv(os.path.join(\"s3a://stock.etl/\", key), header=True, index=True, encoding='utf-8')\n"
   ]
  },
  {
   "cell_type": "code",
   "execution_count": 146,
   "metadata": {},
   "outputs": [
    {
     "data": {
      "application/vnd.jupyter.widget-view+json": {
       "model_id": "7dfe9a83b34a419fb55d2e968656d492",
       "version_major": 2,
       "version_minor": 0
      },
      "text/plain": [
       "VBox()"
      ]
     },
     "metadata": {},
     "output_type": "display_data"
    },
    {
     "data": {
      "application/vnd.jupyter.widget-view+json": {
       "model_id": "",
       "version_major": 2,
       "version_minor": 0
      },
      "text/plain": [
       "FloatProgress(value=0.0, bar_style='info', description='Progress:', layout=Layout(height='25px', width='50%'),…"
      ]
     },
     "metadata": {},
     "output_type": "display_data"
    }
   ],
   "source": [
    "save_to_s3(stock=\"AAPL\", folder=\"historic.combine\")"
   ]
  },
  {
   "cell_type": "markdown",
   "metadata": {},
   "source": [
    "## Main function"
   ]
  },
  {
   "cell_type": "markdown",
   "metadata": {},
   "source": [
    "Before ran this main function, I made sure that single files read, process, and write working correctly to S3. Then run the ETL on airflow. Copied and modifed the code to DAG file (removed Spark). It is possible to run with Spark on EMR cluster, but since the data only run once, and it can finshied in acceptable time, I didn't use ERM with Spark."
   ]
  },
  {
   "cell_type": "code",
   "execution_count": 4,
   "metadata": {},
   "outputs": [
    {
     "data": {
      "application/vnd.jupyter.widget-view+json": {
       "model_id": "eb4700530714417ba68fd063367933dc",
       "version_major": 2,
       "version_minor": 0
      },
      "text/plain": [
       "VBox()"
      ]
     },
     "metadata": {},
     "output_type": "display_data"
    },
    {
     "data": {
      "application/vnd.jupyter.widget-view+json": {
       "model_id": "",
       "version_major": 2,
       "version_minor": 0
      },
      "text/plain": [
       "FloatProgress(value=0.0, bar_style='info', description='Progress:', layout=Layout(height='25px', width='50%'),…"
      ]
     },
     "metadata": {},
     "output_type": "display_data"
    }
   ],
   "source": [
    "def create_spark_session():\n",
    "    \"\"\"\n",
    "    Create Spark session\n",
    "    \"\"\"\n",
    "    spark = SparkSession \\\n",
    "        .builder \\\n",
    "        .config(\"spark.jars.packages\", \"org.apache.hadoop:hadoop-aws:2.7.0\") \\\n",
    "        .getOrCreate()\n",
    "    return spark"
   ]
  },
  {
   "cell_type": "code",
   "execution_count": 2,
   "metadata": {},
   "outputs": [
    {
     "data": {
      "application/vnd.jupyter.widget-view+json": {
       "model_id": "772f29d0923a46a08fbd771f71da8c4b",
       "version_major": 2,
       "version_minor": 0
      },
      "text/plain": [
       "VBox()"
      ]
     },
     "metadata": {},
     "output_type": "display_data"
    },
    {
     "data": {
      "application/vnd.jupyter.widget-view+json": {
       "model_id": "",
       "version_major": 2,
       "version_minor": 0
      },
      "text/plain": [
       "FloatProgress(value=0.0, bar_style='info', description='Progress:', layout=Layout(height='25px', width='50%'),…"
      ]
     },
     "metadata": {},
     "output_type": "display_data"
    }
   ],
   "source": [
    "def main():\n",
    "    spark = create_spark_session()\n",
    "    \n",
    "    # get company info\n",
    "    df_companyinfo_list= convert_zip_to_dfs(\"stock.etl\", \"raw-historic-data/companyinfo.zip\")\n",
    "    df_companyinfo_key=list(df_companyinfo_list.keys())[0]\n",
    "    df_company_info=df_companyinfo_list.get(df_companyinfo_key)\n",
    "\n",
    "    # get news info\n",
    "    df_news_list= convert_zip_to_dfs(\"stock.etl\", \"raw-historic-data/stocknews.zip\")\n",
    "    df_news_historic=df_news_list.get('Combined_News_DJIA')\n",
    "    \n",
    "    # get stock data\n",
    "    stock_dict_historic=convert_stock_from_zip(bucket_name=\"stock.etl\", key=\"raw-historic-data/stockpricing.zip\")\n",
    "    \n",
    "    # process and save\n",
    "    \n",
    "    for key, value in stock_dict_historic.items():\n",
    "        stock_name=key.upper()\n",
    "        df=data_transformation(df_company_info, df_news_historic, value, stock_name)\n",
    "        save_to_s3(df, stock=stock_name, folder=\"historic.combine\")\n",
    "\n",
    "if __name__ == \"__main__\":\n",
    "    main()"
   ]
  },
  {
   "cell_type": "code",
   "execution_count": null,
   "metadata": {},
   "outputs": [],
   "source": []
  }
 ],
 "metadata": {
  "kernelspec": {
   "display_name": "PySpark",
   "language": "",
   "name": "pysparkkernel"
  },
  "language_info": {
   "codemirror_mode": {
    "name": "python",
    "version": 2
   },
   "mimetype": "text/x-python",
   "name": "pyspark",
   "pygments_lexer": "python2"
  }
 },
 "nbformat": 4,
 "nbformat_minor": 4
}
